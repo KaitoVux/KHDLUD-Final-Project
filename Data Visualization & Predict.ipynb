{
 "cells": [
  {
   "cell_type": "markdown",
   "metadata": {},
   "source": [
    "## Import các thư viện cần thiết"
   ]
  },
  {
   "cell_type": "code",
   "execution_count": 175,
   "metadata": {},
   "outputs": [
    {
     "output_type": "error",
     "ename": "ModuleNotFoundError",
     "evalue": "No module named 'underthesea'",
     "traceback": [
      "\u001b[0;31m---------------------------------------------------------------------------\u001b[0m",
      "\u001b[0;31mModuleNotFoundError\u001b[0m                       Traceback (most recent call last)",
      "\u001b[0;32m<ipython-input-175-01e31f0b3e69>\u001b[0m in \u001b[0;36m<module>\u001b[0;34m\u001b[0m\n\u001b[1;32m     12\u001b[0m \u001b[0;32mfrom\u001b[0m \u001b[0mbs4\u001b[0m \u001b[0;32mimport\u001b[0m \u001b[0mBeautifulSoup\u001b[0m\u001b[0;34m\u001b[0m\u001b[0;34m\u001b[0m\u001b[0m\n\u001b[1;32m     13\u001b[0m \u001b[0;32mfrom\u001b[0m \u001b[0mselenium\u001b[0m\u001b[0;34m.\u001b[0m\u001b[0mwebdriver\u001b[0m\u001b[0;34m.\u001b[0m\u001b[0mcommon\u001b[0m\u001b[0;34m.\u001b[0m\u001b[0mkeys\u001b[0m \u001b[0;32mimport\u001b[0m \u001b[0mKeys\u001b[0m\u001b[0;34m\u001b[0m\u001b[0;34m\u001b[0m\u001b[0m\n\u001b[0;32m---> 14\u001b[0;31m \u001b[0;32mfrom\u001b[0m \u001b[0munderthesea\u001b[0m \u001b[0;32mimport\u001b[0m \u001b[0mword_tokenize\u001b[0m \u001b[0;31m#word_tokenize of lines\u001b[0m\u001b[0;34m\u001b[0m\u001b[0;34m\u001b[0m\u001b[0m\n\u001b[0m\u001b[1;32m     15\u001b[0m \u001b[0;32mimport\u001b[0m \u001b[0mnumpy\u001b[0m \u001b[0;32mas\u001b[0m \u001b[0mnp\u001b[0m\u001b[0;34m\u001b[0m\u001b[0;34m\u001b[0m\u001b[0m\n\u001b[1;32m     16\u001b[0m \u001b[0;32mimport\u001b[0m \u001b[0mmatplotlib\u001b[0m\u001b[0;34m.\u001b[0m\u001b[0mpyplot\u001b[0m \u001b[0;32mas\u001b[0m \u001b[0mplt\u001b[0m\u001b[0;34m\u001b[0m\u001b[0;34m\u001b[0m\u001b[0m\n",
      "\u001b[0;31mModuleNotFoundError\u001b[0m: No module named 'underthesea'"
     ]
    }
   ],
   "source": [
    "import re #regex\n",
    "import csv\n",
    "import os\n",
    "import json\n",
    "import pandas as pd\n",
    "from sklearn.model_selection import train_test_split\n",
    "from pandas import DataFrame\n",
    "import urllib.request\n",
    "import joblib #load, dump pkl\n",
    "from selenium import webdriver\n",
    "import time\n",
    "from bs4 import BeautifulSoup\n",
    "from selenium.webdriver.common.keys import Keys\n",
    "from underthesea import word_tokenize #word_tokenize of lines\n",
    "import numpy as np\n",
    "import matplotlib.pyplot as plt\n",
    "import transformers as ppb # load model BERT\n",
    "from transformers import BertModel, BertTokenizer\n",
    "import torch\n",
    "from bs4 import BeautifulSoup"
   ]
  },
  {
   "cell_type": "markdown",
   "metadata": {},
   "source": [
    "# 1. Data Visualization"
   ]
  },
  {
   "cell_type": "markdown",
   "metadata": {},
   "source": [
    "## Load data"
   ]
  },
  {
   "cell_type": "code",
   "execution_count": 144,
   "metadata": {},
   "outputs": [],
   "source": [
    "file = 'tiki_comments.csv'\n",
    "df = pd.read_csv(file,sep=\",\")"
   ]
  },
  {
   "cell_type": "markdown",
   "metadata": {},
   "source": [
    "### Kích thước của bộ dữ liệu"
   ]
  },
  {
   "cell_type": "markdown",
   "metadata": {},
   "source": [
    "Dữ liệu có 1399 dòng và 2 cột."
   ]
  },
  {
   "cell_type": "code",
   "execution_count": 145,
   "metadata": {},
   "outputs": [
    {
     "output_type": "execute_result",
     "data": {
      "text/plain": [
       "(1399, 2)"
      ]
     },
     "metadata": {},
     "execution_count": 145
    }
   ],
   "source": [
    "df.shape"
   ]
  },
  {
   "cell_type": "markdown",
   "metadata": {},
   "source": [
    "### Ý nghĩa các các cột"
   ]
  },
  {
   "cell_type": "markdown",
   "metadata": {},
   "source": [
    "Kiểu dữ liệu của các cột"
   ]
  },
  {
   "cell_type": "code",
   "execution_count": 146,
   "metadata": {},
   "outputs": [
    {
     "output_type": "execute_result",
     "data": {
      "text/plain": [
       "comment     object\n",
       "is_trust     int64\n",
       "dtype: object"
      ]
     },
     "metadata": {},
     "execution_count": 146
    }
   ],
   "source": [
    "dtypes = df.dtypes\n",
    "dtypes"
   ]
  },
  {
   "cell_type": "markdown",
   "metadata": {},
   "source": [
    "- Cột comment dạng chuỗi là bình luận của người dùng.\n",
    "- Cột is_trust đánh giá bình luận là tích cực (1) hay tiêu cực (0). "
   ]
  },
  {
   "cell_type": "code",
   "execution_count": 147,
   "metadata": {},
   "outputs": [
    {
     "output_type": "execute_result",
     "data": {
      "text/plain": [
       "                                                                                                                                                                                                                                        comment  \\\n",
       "0                                                                                                                                                                                                                          Cực kì hài lòng, đẹp   \n",
       "1                                                                                                                                                                                                                        Cực kì hài lòng, ok ok   \n",
       "2                                                                                                                                                                                                                      Cực kì hài lòng, đẹp đấy   \n",
       "3                                                                                                                                                                                                                             Cực kì hài lòng,    \n",
       "4                                                                                                                                                                                                                             Cực kì hài lòng,    \n",
       "5                                                                                                                                                                                                                             Cực kì hài lòng,    \n",
       "6                                                                                                                                                                                                                             Cực kì hài lòng,    \n",
       "7                                                                                                                                                                                                                             Cực kì hài lòng,    \n",
       "8  Cực kì hài lòng, Hat chia rất đều đep, date sd còn xa, tiki đóng goi cẩn thận , shipe giao hàng nhiet tinh, mong tiki giu uy tin voi khach hàng để phat triển tot hon, nhung nha ban hàng k có tam de nghi tiki loai ra khoi k để mất uy tín   \n",
       "9                                    Mua Sắm ở Tiki, Sản phẩm ok, đóng gói kỹ\\nMình dùng hạt chia kết hợp với Nước Rau củ; Thảo dược; Sữa chua cùng Trái cây; ...\\nMỗi ngày 2 muỗng cafe thôi, mà cả tháng gần nửa túi, sắp phải mua thêm  ;)))   \n",
       "\n",
       "   is_trust  \n",
       "0         1  \n",
       "1         1  \n",
       "2         1  \n",
       "3         1  \n",
       "4         1  \n",
       "5         1  \n",
       "6         1  \n",
       "7         1  \n",
       "8         1  \n",
       "9         1  "
      ],
      "text/html": "<div>\n<style scoped>\n    .dataframe tbody tr th:only-of-type {\n        vertical-align: middle;\n    }\n\n    .dataframe tbody tr th {\n        vertical-align: top;\n    }\n\n    .dataframe thead th {\n        text-align: right;\n    }\n</style>\n<table border=\"1\" class=\"dataframe\">\n  <thead>\n    <tr style=\"text-align: right;\">\n      <th></th>\n      <th>comment</th>\n      <th>is_trust</th>\n    </tr>\n  </thead>\n  <tbody>\n    <tr>\n      <th>0</th>\n      <td>Cực kì hài lòng, đẹp</td>\n      <td>1</td>\n    </tr>\n    <tr>\n      <th>1</th>\n      <td>Cực kì hài lòng, ok ok</td>\n      <td>1</td>\n    </tr>\n    <tr>\n      <th>2</th>\n      <td>Cực kì hài lòng, đẹp đấy</td>\n      <td>1</td>\n    </tr>\n    <tr>\n      <th>3</th>\n      <td>Cực kì hài lòng,</td>\n      <td>1</td>\n    </tr>\n    <tr>\n      <th>4</th>\n      <td>Cực kì hài lòng,</td>\n      <td>1</td>\n    </tr>\n    <tr>\n      <th>5</th>\n      <td>Cực kì hài lòng,</td>\n      <td>1</td>\n    </tr>\n    <tr>\n      <th>6</th>\n      <td>Cực kì hài lòng,</td>\n      <td>1</td>\n    </tr>\n    <tr>\n      <th>7</th>\n      <td>Cực kì hài lòng,</td>\n      <td>1</td>\n    </tr>\n    <tr>\n      <th>8</th>\n      <td>Cực kì hài lòng, Hat chia rất đều đep, date sd còn xa, tiki đóng goi cẩn thận , shipe giao hàng nhiet tinh, mong tiki giu uy tin voi khach hàng để phat triển tot hon, nhung nha ban hàng k có tam de nghi tiki loai ra khoi k để mất uy tín</td>\n      <td>1</td>\n    </tr>\n    <tr>\n      <th>9</th>\n      <td>Mua Sắm ở Tiki, Sản phẩm ok, đóng gói kỹ\\nMình dùng hạt chia kết hợp với Nước Rau củ; Thảo dược; Sữa chua cùng Trái cây; ...\\nMỗi ngày 2 muỗng cafe thôi, mà cả tháng gần nửa túi, sắp phải mua thêm  ;)))</td>\n      <td>1</td>\n    </tr>\n  </tbody>\n</table>\n</div>"
     },
     "metadata": {},
     "execution_count": 147
    }
   ],
   "source": [
    "pd.set_option('display.max_colwidth',1000)\n",
    "df.head(10)"
   ]
  },
  {
   "cell_type": "markdown",
   "metadata": {},
   "source": [
    "## Chuẩn hoá dữ liệu"
   ]
  },
  {
   "cell_type": "markdown",
   "metadata": {},
   "source": [
    "### Xoá các dòng có giá trị cột comment trùng lặp."
   ]
  },
  {
   "cell_type": "code",
   "execution_count": 148,
   "metadata": {},
   "outputs": [
    {
     "output_type": "stream",
     "name": "stdout",
     "text": [
      "(1158, 2)\n"
     ]
    },
    {
     "output_type": "execute_result",
     "data": {
      "text/plain": [
       "                                                                                                                                                                                                                                         comment  \\\n",
       "0                                                                                                                                                                                                                           Cực kì hài lòng, đẹp   \n",
       "1                                                                                                                                                                                                                         Cực kì hài lòng, ok ok   \n",
       "2                                                                                                                                                                                                                       Cực kì hài lòng, đẹp đấy   \n",
       "3                                                                                                                                                                                                                              Cực kì hài lòng,    \n",
       "8   Cực kì hài lòng, Hat chia rất đều đep, date sd còn xa, tiki đóng goi cẩn thận , shipe giao hàng nhiet tinh, mong tiki giu uy tin voi khach hàng để phat triển tot hon, nhung nha ban hàng k có tam de nghi tiki loai ra khoi k để mất uy tín   \n",
       "9                                     Mua Sắm ở Tiki, Sản phẩm ok, đóng gói kỹ\\nMình dùng hạt chia kết hợp với Nước Rau củ; Thảo dược; Sữa chua cùng Trái cây; ...\\nMỗi ngày 2 muỗng cafe thôi, mà cả tháng gần nửa túi, sắp phải mua thêm  ;)))   \n",
       "10                                                                                                                                                           Chất lượng va rẻ, Hat to, no đều đẹp,ko bi von cục. Đúng la chất lượng hơn chỗ khac   \n",
       "11                                                                                             Cực kì hài lòng, Túi rất to, hạt chia đẹp, to đều, không hề thấy sạn hay cỏ rác như các loại đã mua trước đây. Vô cùng hài lòng với sản phẩm này.   \n",
       "12                                                                                 Cực kì hài lòng, Lúc mua mình không biết có phải loại dởm không vì rẻ như vậy. Tuy nhiên nhận hàng thấy chắc chắn, đáng tin, còn được tặng kèm nho khô nữa ạ!   \n",
       "13                                                                                        Hàng như hình, Hàng đúng mô tả, hạt to không lẫn sạn. Mình dùng không thường xuyên nên mấy tháng rồi chưa hết nửa kg, mua cho cả gia đình dùng thì ok.   \n",
       "\n",
       "    is_trust  \n",
       "0          1  \n",
       "1          1  \n",
       "2          1  \n",
       "3          1  \n",
       "8          1  \n",
       "9          1  \n",
       "10         1  \n",
       "11         1  \n",
       "12         1  \n",
       "13         1  "
      ],
      "text/html": "<div>\n<style scoped>\n    .dataframe tbody tr th:only-of-type {\n        vertical-align: middle;\n    }\n\n    .dataframe tbody tr th {\n        vertical-align: top;\n    }\n\n    .dataframe thead th {\n        text-align: right;\n    }\n</style>\n<table border=\"1\" class=\"dataframe\">\n  <thead>\n    <tr style=\"text-align: right;\">\n      <th></th>\n      <th>comment</th>\n      <th>is_trust</th>\n    </tr>\n  </thead>\n  <tbody>\n    <tr>\n      <th>0</th>\n      <td>Cực kì hài lòng, đẹp</td>\n      <td>1</td>\n    </tr>\n    <tr>\n      <th>1</th>\n      <td>Cực kì hài lòng, ok ok</td>\n      <td>1</td>\n    </tr>\n    <tr>\n      <th>2</th>\n      <td>Cực kì hài lòng, đẹp đấy</td>\n      <td>1</td>\n    </tr>\n    <tr>\n      <th>3</th>\n      <td>Cực kì hài lòng,</td>\n      <td>1</td>\n    </tr>\n    <tr>\n      <th>8</th>\n      <td>Cực kì hài lòng, Hat chia rất đều đep, date sd còn xa, tiki đóng goi cẩn thận , shipe giao hàng nhiet tinh, mong tiki giu uy tin voi khach hàng để phat triển tot hon, nhung nha ban hàng k có tam de nghi tiki loai ra khoi k để mất uy tín</td>\n      <td>1</td>\n    </tr>\n    <tr>\n      <th>9</th>\n      <td>Mua Sắm ở Tiki, Sản phẩm ok, đóng gói kỹ\\nMình dùng hạt chia kết hợp với Nước Rau củ; Thảo dược; Sữa chua cùng Trái cây; ...\\nMỗi ngày 2 muỗng cafe thôi, mà cả tháng gần nửa túi, sắp phải mua thêm  ;)))</td>\n      <td>1</td>\n    </tr>\n    <tr>\n      <th>10</th>\n      <td>Chất lượng va rẻ, Hat to, no đều đẹp,ko bi von cục. Đúng la chất lượng hơn chỗ khac</td>\n      <td>1</td>\n    </tr>\n    <tr>\n      <th>11</th>\n      <td>Cực kì hài lòng, Túi rất to, hạt chia đẹp, to đều, không hề thấy sạn hay cỏ rác như các loại đã mua trước đây. Vô cùng hài lòng với sản phẩm này.</td>\n      <td>1</td>\n    </tr>\n    <tr>\n      <th>12</th>\n      <td>Cực kì hài lòng, Lúc mua mình không biết có phải loại dởm không vì rẻ như vậy. Tuy nhiên nhận hàng thấy chắc chắn, đáng tin, còn được tặng kèm nho khô nữa ạ!</td>\n      <td>1</td>\n    </tr>\n    <tr>\n      <th>13</th>\n      <td>Hàng như hình, Hàng đúng mô tả, hạt to không lẫn sạn. Mình dùng không thường xuyên nên mấy tháng rồi chưa hết nửa kg, mua cho cả gia đình dùng thì ok.</td>\n      <td>1</td>\n    </tr>\n  </tbody>\n</table>\n</div>"
     },
     "metadata": {},
     "execution_count": 148
    }
   ],
   "source": [
    "# Đếm số lượng dòng trùng lặp\n",
    "num_duplicated_rows = df.duplicated(['comment']).sum()\n",
    "num_duplicated_rows\n",
    "# Xoá các dòng trùng\n",
    "df.drop_duplicates(subset =\"comment\", keep = 'first', inplace = True) \n",
    "\n",
    "print(df.shape)\n",
    "df.head(10)"
   ]
  },
  {
   "cell_type": "markdown",
   "metadata": {},
   "source": [
    "### Chuẩn hoá comment\n",
    "Dữ liệu hiện đang chứa những kí tự như dấu chấm câu, kí tự đặc biệt, icon,... Những kí tự này không cần thiết cho việc khai phá dữ liệu nên ta sẽ tiến hành loại bỏ chúng. Các bước loại bỏ:\n",
    "- Xoá đi các dấu chấm câu như (. , ? ; ...)\n",
    "- Xoá đi các kí tự đặc biệt: @,#,*,...\n",
    "- Xoá khoảng trắng đầu và cuối mỗi comment, xoá  khoảng trắng dư thừa giữa các từ.\n",
    "- Xoá đi icons và emoji."
   ]
  },
  {
   "cell_type": "code",
   "execution_count": 149,
   "metadata": {},
   "outputs": [],
   "source": [
    "def standardize_data(row):\n",
    "    row = re.sub(r\"[\\.,\\?]+$-\", \"\", row)\n",
    "    row = re.sub(r'[^\\w]',' ', row) \n",
    "    row = row.replace(\",\", \" \").replace(\".\", \" \") \\\n",
    "        .replace(\";\", \" \").replace(\"“\", \" \") \\\n",
    "        .replace(\":\", \" \").replace(\"”\", \" \") \\\n",
    "        .replace('\"', \" \").replace(\"'\", \" \") \\\n",
    "        .replace(\"!\", \" \").replace(\"?\", \" \") \\\n",
    "        .replace(\"-\", \" \").replace(\"?\", \" \")\n",
    "    row = row.strip()\n",
    "    row = \" \".join(row.split())\n",
    "    return row"
   ]
  },
  {
   "cell_type": "markdown",
   "metadata": {},
   "source": [
    "Comment trước khi chuẩn hoá"
   ]
  },
  {
   "cell_type": "code",
   "execution_count": 150,
   "metadata": {},
   "outputs": [
    {
     "output_type": "execute_result",
     "data": {
      "text/plain": [
       "                                                                                                                                                                                                                                                                                                                                                                                                                                                                                 comment  \\\n",
       "24                                                                                                                                                                        Cực kì hài lòng, Đèn ok!!! đẹp. ko bị trầy. gói cẩn thận. hợp với bàn nhỏ. Thích nhất là chân đèn. rất tiết kiệm diện tích. thiết kế thông minh!!. Còn có bóng đèn hay ko. ko quan trọng. có3 chế độ sáng  tùy người thích ánh sáng vàng hay trắng.. khỏi phí. đáng đồng tiền. bàn to thì nên mua đèn mắc hơn.   \n",
       "25  Cực kì hài lòng, Đèn đẹp, chắc chắn, đế nặng. Cổ đèn ko giống hình quảng cáo nhưng mình lại thích cổ đèn như này hơn. Nhìn xinh, Mỗi tội mua đèn nhưng ko có kèm bóng đèn phải mua ngoài. Mình xem có shop họ đóng trong hộp xốp như hộp đóng bộ ấm chén thì có đèn kèm theo. Ở đây chỉ thấy đóng trong thùng carton đế được bọc trong miếng bìa carton nữa. Ngoài thùng quấn nilon cùng xốp 2 mặt rất chắc chắn. Dù sao với cung cách gói sp và shipper nhiệt tình thì cho Tiki 5*.   \n",
       "26                                                                                                     ngon bổ rẻ, đèn sáng đủ 3 chế độ sáng thường, vàng ấm và siêu sáng. Riêng màu vàng ấm tối bật lên làm đèn ngủ luôn, siêu ấm cúng. Cảm ứng siêu nhạy chạm dô cái sáng chưa tới 3 giây. Thích hơn nữa là có chỗ đựng bút nho nhỏ xinh xinh. Túm lại với giá tiền như vậy mà đc như thế là OK lắm đó cả nhà. À quên ai làm youtuber quất luôn em này về làm đèn chiếu trước camera 😆   \n",
       "27                                                                                               Hài Lòng, Mình đã sử dụng khoảng 1 tháng rồi, giờ mới quay lại đánh giá... Sản phẩm cực kì tốt với giá tiền, với 3 màu sắc khác nhau giúp ta linh hoạt được trong việc học cũng như các việc khác. Thiết kế nhỉ gọn, xinh xắn, đáng yêu. Màu sắc sản phẩm trang nhã. Đèn khi đầy pin phát sáng được từ 3 đến 4 tiếng và đến giờ vẫn chưa có hiện tượng chay pin. Rất ưng ý và hài lòng.   \n",
       "28                                                                                                                                                                                                                                                                                              Không hài lòng, Sản phẩm lỗi, 1/3 màu đèn không đủ sáng mà chỉ lên lờ mờ ngay khi vừa nhận sản phẩm. Mong muốn đổi lại hoặc trả hàng mua sản phẩm khác vì chất lượng không như mong muốn   \n",
       "29                                                                                                                                                                                                                                                                                                                                       Cực kì hài lòng, Mình mua 11.11, sale còn 143k, quá rẻ lun. Sữa tắm thơm, nhiều bọt, dùng 1 lượng ít hơn sản phẩm khác. Giao hành nhanh, 5 sao.   \n",
       "30                                                                                                                                                                                                                                                                                                                                                                                     Hàng cao cấp, Hàng cao cấp, thơm ngào ngạt luôn á, mua đc tặng xà bông + giá sale nữa, quá thích.   \n",
       "31                                                                                                                                                                                                                                                                                                                                                                                             Cực kì hài lòng, Đóng gói quá chuẩn,hàng thì ok. Anh giao hàng quá dễ thương. Cám ơn tiki   \n",
       "32                                                                                                                                                                                                                                                                                                                                                                                                                Cực kì hài lòng, giao hàng cực nhanh, đóng gói đẹp, sản phẩm như mô tả   \n",
       "33                                                                                                                                                                                                                                                                                                                                                                                                                        Cực kì hài lòng, Giao hàng nhanh, shipper lại dễ thương nữa 😊😊   \n",
       "\n",
       "    is_trust  \n",
       "24         1  \n",
       "25         1  \n",
       "26         1  \n",
       "27         1  \n",
       "28         0  \n",
       "29         1  \n",
       "30         1  \n",
       "31         1  \n",
       "32         1  \n",
       "33         1  "
      ],
      "text/html": "<div>\n<style scoped>\n    .dataframe tbody tr th:only-of-type {\n        vertical-align: middle;\n    }\n\n    .dataframe tbody tr th {\n        vertical-align: top;\n    }\n\n    .dataframe thead th {\n        text-align: right;\n    }\n</style>\n<table border=\"1\" class=\"dataframe\">\n  <thead>\n    <tr style=\"text-align: right;\">\n      <th></th>\n      <th>comment</th>\n      <th>is_trust</th>\n    </tr>\n  </thead>\n  <tbody>\n    <tr>\n      <th>24</th>\n      <td>Cực kì hài lòng, Đèn ok!!! đẹp. ko bị trầy. gói cẩn thận. hợp với bàn nhỏ. Thích nhất là chân đèn. rất tiết kiệm diện tích. thiết kế thông minh!!. Còn có bóng đèn hay ko. ko quan trọng. có3 chế độ sáng  tùy người thích ánh sáng vàng hay trắng.. khỏi phí. đáng đồng tiền. bàn to thì nên mua đèn mắc hơn.</td>\n      <td>1</td>\n    </tr>\n    <tr>\n      <th>25</th>\n      <td>Cực kì hài lòng, Đèn đẹp, chắc chắn, đế nặng. Cổ đèn ko giống hình quảng cáo nhưng mình lại thích cổ đèn như này hơn. Nhìn xinh, Mỗi tội mua đèn nhưng ko có kèm bóng đèn phải mua ngoài. Mình xem có shop họ đóng trong hộp xốp như hộp đóng bộ ấm chén thì có đèn kèm theo. Ở đây chỉ thấy đóng trong thùng carton đế được bọc trong miếng bìa carton nữa. Ngoài thùng quấn nilon cùng xốp 2 mặt rất chắc chắn. Dù sao với cung cách gói sp và shipper nhiệt tình thì cho Tiki 5*.</td>\n      <td>1</td>\n    </tr>\n    <tr>\n      <th>26</th>\n      <td>ngon bổ rẻ, đèn sáng đủ 3 chế độ sáng thường, vàng ấm và siêu sáng. Riêng màu vàng ấm tối bật lên làm đèn ngủ luôn, siêu ấm cúng. Cảm ứng siêu nhạy chạm dô cái sáng chưa tới 3 giây. Thích hơn nữa là có chỗ đựng bút nho nhỏ xinh xinh. Túm lại với giá tiền như vậy mà đc như thế là OK lắm đó cả nhà. À quên ai làm youtuber quất luôn em này về làm đèn chiếu trước camera 😆</td>\n      <td>1</td>\n    </tr>\n    <tr>\n      <th>27</th>\n      <td>Hài Lòng, Mình đã sử dụng khoảng 1 tháng rồi, giờ mới quay lại đánh giá... Sản phẩm cực kì tốt với giá tiền, với 3 màu sắc khác nhau giúp ta linh hoạt được trong việc học cũng như các việc khác. Thiết kế nhỉ gọn, xinh xắn, đáng yêu. Màu sắc sản phẩm trang nhã. Đèn khi đầy pin phát sáng được từ 3 đến 4 tiếng và đến giờ vẫn chưa có hiện tượng chay pin. Rất ưng ý và hài lòng.</td>\n      <td>1</td>\n    </tr>\n    <tr>\n      <th>28</th>\n      <td>Không hài lòng, Sản phẩm lỗi, 1/3 màu đèn không đủ sáng mà chỉ lên lờ mờ ngay khi vừa nhận sản phẩm. Mong muốn đổi lại hoặc trả hàng mua sản phẩm khác vì chất lượng không như mong muốn</td>\n      <td>0</td>\n    </tr>\n    <tr>\n      <th>29</th>\n      <td>Cực kì hài lòng, Mình mua 11.11, sale còn 143k, quá rẻ lun. Sữa tắm thơm, nhiều bọt, dùng 1 lượng ít hơn sản phẩm khác. Giao hành nhanh, 5 sao.</td>\n      <td>1</td>\n    </tr>\n    <tr>\n      <th>30</th>\n      <td>Hàng cao cấp, Hàng cao cấp, thơm ngào ngạt luôn á, mua đc tặng xà bông + giá sale nữa, quá thích.</td>\n      <td>1</td>\n    </tr>\n    <tr>\n      <th>31</th>\n      <td>Cực kì hài lòng, Đóng gói quá chuẩn,hàng thì ok. Anh giao hàng quá dễ thương. Cám ơn tiki</td>\n      <td>1</td>\n    </tr>\n    <tr>\n      <th>32</th>\n      <td>Cực kì hài lòng, giao hàng cực nhanh, đóng gói đẹp, sản phẩm như mô tả</td>\n      <td>1</td>\n    </tr>\n    <tr>\n      <th>33</th>\n      <td>Cực kì hài lòng, Giao hàng nhanh, shipper lại dễ thương nữa 😊😊</td>\n      <td>1</td>\n    </tr>\n  </tbody>\n</table>\n</div>"
     },
     "metadata": {},
     "execution_count": 150
    }
   ],
   "source": [
    "df[20:30]"
   ]
  },
  {
   "cell_type": "markdown",
   "metadata": {},
   "source": [
    "### Sau khi chuẩn hoá"
   ]
  },
  {
   "cell_type": "code",
   "execution_count": 151,
   "metadata": {},
   "outputs": [
    {
     "output_type": "execute_result",
     "data": {
      "text/plain": [
       "                                                                                                                                                                                                                                                                                                                                                                                                                                                                     comment  \\\n",
       "24                                                                                                                                                                                 Cực kì hài lòng Đèn ok đẹp ko bị trầy gói cẩn thận hợp với bàn nhỏ Thích nhất là chân đèn rất tiết kiệm diện tích thiết kế thông minh Còn có bóng đèn hay ko ko quan trọng có3 chế độ sáng tùy người thích ánh sáng vàng hay trắng khỏi phí đáng đồng tiền bàn to thì nên mua đèn mắc hơn   \n",
       "25  Cực kì hài lòng Đèn đẹp chắc chắn đế nặng Cổ đèn ko giống hình quảng cáo nhưng mình lại thích cổ đèn như này hơn Nhìn xinh Mỗi tội mua đèn nhưng ko có kèm bóng đèn phải mua ngoài Mình xem có shop họ đóng trong hộp xốp như hộp đóng bộ ấm chén thì có đèn kèm theo Ở đây chỉ thấy đóng trong thùng carton đế được bọc trong miếng bìa carton nữa Ngoài thùng quấn nilon cùng xốp 2 mặt rất chắc chắn Dù sao với cung cách gói sp và shipper nhiệt tình thì cho Tiki 5   \n",
       "26                                                                                                   ngon bổ rẻ đèn sáng đủ 3 chế độ sáng thường vàng ấm và siêu sáng Riêng màu vàng ấm tối bật lên làm đèn ngủ luôn siêu ấm cúng Cảm ứng siêu nhạy chạm dô cái sáng chưa tới 3 giây Thích hơn nữa là có chỗ đựng bút nho nhỏ xinh xinh Túm lại với giá tiền như vậy mà đc như thế là OK lắm đó cả nhà À quên ai làm youtuber quất luôn em này về làm đèn chiếu trước camera   \n",
       "27                                                                                                Hài Lòng Mình đã sử dụng khoảng 1 tháng rồi giờ mới quay lại đánh giá Sản phẩm cực kì tốt với giá tiền với 3 màu sắc khác nhau giúp ta linh hoạt được trong việc học cũng như các việc khác Thiết kế nhỉ gọn xinh xắn đáng yêu Màu sắc sản phẩm trang nhã Đèn khi đầy pin phát sáng được từ 3 đến 4 tiếng và đến giờ vẫn chưa có hiện tượng chay pin Rất ưng ý và hài lòng   \n",
       "28                                                                                                                                                                                                                                                                                     Không hài lòng Sản phẩm lỗi 1 3 màu đèn không đủ sáng mà chỉ lên lờ mờ ngay khi vừa nhận sản phẩm Mong muốn đổi lại hoặc trả hàng mua sản phẩm khác vì chất lượng không như mong muốn   \n",
       "29                                                                                                                                                                                                                                                                                                                                    Cực kì hài lòng Mình mua 11 11 sale còn 143k quá rẻ lun Sữa tắm thơm nhiều bọt dùng 1 lượng ít hơn sản phẩm khác Giao hành nhanh 5 sao   \n",
       "30                                                                                                                                                                                                                                                                                                                                                                                Hàng cao cấp Hàng cao cấp thơm ngào ngạt luôn á mua đc tặng xà bông giá sale nữa quá thích   \n",
       "31                                                                                                                                                                                                                                                                                                                                                                                    Cực kì hài lòng Đóng gói quá chuẩn hàng thì ok Anh giao hàng quá dễ thương Cám ơn tiki   \n",
       "32                                                                                                                                                                                                                                                                                                                                                                                                       Cực kì hài lòng giao hàng cực nhanh đóng gói đẹp sản phẩm như mô tả   \n",
       "33                                                                                                                                                                                                                                                                                                                                                                                                                 Cực kì hài lòng Giao hàng nhanh shipper lại dễ thương nữa   \n",
       "\n",
       "    is_trust  \n",
       "24         1  \n",
       "25         1  \n",
       "26         1  \n",
       "27         1  \n",
       "28         0  \n",
       "29         1  \n",
       "30         1  \n",
       "31         1  \n",
       "32         1  \n",
       "33         1  "
      ],
      "text/html": "<div>\n<style scoped>\n    .dataframe tbody tr th:only-of-type {\n        vertical-align: middle;\n    }\n\n    .dataframe tbody tr th {\n        vertical-align: top;\n    }\n\n    .dataframe thead th {\n        text-align: right;\n    }\n</style>\n<table border=\"1\" class=\"dataframe\">\n  <thead>\n    <tr style=\"text-align: right;\">\n      <th></th>\n      <th>comment</th>\n      <th>is_trust</th>\n    </tr>\n  </thead>\n  <tbody>\n    <tr>\n      <th>24</th>\n      <td>Cực kì hài lòng Đèn ok đẹp ko bị trầy gói cẩn thận hợp với bàn nhỏ Thích nhất là chân đèn rất tiết kiệm diện tích thiết kế thông minh Còn có bóng đèn hay ko ko quan trọng có3 chế độ sáng tùy người thích ánh sáng vàng hay trắng khỏi phí đáng đồng tiền bàn to thì nên mua đèn mắc hơn</td>\n      <td>1</td>\n    </tr>\n    <tr>\n      <th>25</th>\n      <td>Cực kì hài lòng Đèn đẹp chắc chắn đế nặng Cổ đèn ko giống hình quảng cáo nhưng mình lại thích cổ đèn như này hơn Nhìn xinh Mỗi tội mua đèn nhưng ko có kèm bóng đèn phải mua ngoài Mình xem có shop họ đóng trong hộp xốp như hộp đóng bộ ấm chén thì có đèn kèm theo Ở đây chỉ thấy đóng trong thùng carton đế được bọc trong miếng bìa carton nữa Ngoài thùng quấn nilon cùng xốp 2 mặt rất chắc chắn Dù sao với cung cách gói sp và shipper nhiệt tình thì cho Tiki 5</td>\n      <td>1</td>\n    </tr>\n    <tr>\n      <th>26</th>\n      <td>ngon bổ rẻ đèn sáng đủ 3 chế độ sáng thường vàng ấm và siêu sáng Riêng màu vàng ấm tối bật lên làm đèn ngủ luôn siêu ấm cúng Cảm ứng siêu nhạy chạm dô cái sáng chưa tới 3 giây Thích hơn nữa là có chỗ đựng bút nho nhỏ xinh xinh Túm lại với giá tiền như vậy mà đc như thế là OK lắm đó cả nhà À quên ai làm youtuber quất luôn em này về làm đèn chiếu trước camera</td>\n      <td>1</td>\n    </tr>\n    <tr>\n      <th>27</th>\n      <td>Hài Lòng Mình đã sử dụng khoảng 1 tháng rồi giờ mới quay lại đánh giá Sản phẩm cực kì tốt với giá tiền với 3 màu sắc khác nhau giúp ta linh hoạt được trong việc học cũng như các việc khác Thiết kế nhỉ gọn xinh xắn đáng yêu Màu sắc sản phẩm trang nhã Đèn khi đầy pin phát sáng được từ 3 đến 4 tiếng và đến giờ vẫn chưa có hiện tượng chay pin Rất ưng ý và hài lòng</td>\n      <td>1</td>\n    </tr>\n    <tr>\n      <th>28</th>\n      <td>Không hài lòng Sản phẩm lỗi 1 3 màu đèn không đủ sáng mà chỉ lên lờ mờ ngay khi vừa nhận sản phẩm Mong muốn đổi lại hoặc trả hàng mua sản phẩm khác vì chất lượng không như mong muốn</td>\n      <td>0</td>\n    </tr>\n    <tr>\n      <th>29</th>\n      <td>Cực kì hài lòng Mình mua 11 11 sale còn 143k quá rẻ lun Sữa tắm thơm nhiều bọt dùng 1 lượng ít hơn sản phẩm khác Giao hành nhanh 5 sao</td>\n      <td>1</td>\n    </tr>\n    <tr>\n      <th>30</th>\n      <td>Hàng cao cấp Hàng cao cấp thơm ngào ngạt luôn á mua đc tặng xà bông giá sale nữa quá thích</td>\n      <td>1</td>\n    </tr>\n    <tr>\n      <th>31</th>\n      <td>Cực kì hài lòng Đóng gói quá chuẩn hàng thì ok Anh giao hàng quá dễ thương Cám ơn tiki</td>\n      <td>1</td>\n    </tr>\n    <tr>\n      <th>32</th>\n      <td>Cực kì hài lòng giao hàng cực nhanh đóng gói đẹp sản phẩm như mô tả</td>\n      <td>1</td>\n    </tr>\n    <tr>\n      <th>33</th>\n      <td>Cực kì hài lòng Giao hàng nhanh shipper lại dễ thương nữa</td>\n      <td>1</td>\n    </tr>\n  </tbody>\n</table>\n</div>"
     },
     "metadata": {},
     "execution_count": 151
    }
   ],
   "source": [
    "df['comment'] = df['comment'].apply(standardize_data)\n",
    "df[20:30]"
   ]
  },
  {
   "cell_type": "markdown",
   "metadata": {},
   "source": [
    "### Lưu dữ liệu phục vụ cho việc train model"
   ]
  },
  {
   "cell_type": "code",
   "execution_count": 152,
   "metadata": {},
   "outputs": [],
   "source": [
    "df.to_csv ('formated__dataset.csv', index = False, header=True)"
   ]
  },
  {
   "cell_type": "markdown",
   "metadata": {},
   "source": [
    "## Trực quan hoá dữ liệu"
   ]
  },
  {
   "cell_type": "markdown",
   "metadata": {},
   "source": [
    "<b>Câu hỏi:</b> Tỉ lệ các loại comment trong tập dữ liệu.<br>\n",
    "Ta sẽ tính toán xem mỗi loại comment chiếm bao nhiêu phầm trăm (%) trong tập dữ liệu."
   ]
  },
  {
   "cell_type": "code",
   "execution_count": 101,
   "metadata": {},
   "outputs": [
    {
     "output_type": "error",
     "ename": "NameError",
     "evalue": "name 'plt' is not defined",
     "traceback": [
      "\u001b[0;31m---------------------------------------------------------------------------\u001b[0m",
      "\u001b[0;31mNameError\u001b[0m                                 Traceback (most recent call last)",
      "\u001b[0;32m<ipython-input-101-f1d5de156607>\u001b[0m in \u001b[0;36m<module>\u001b[0;34m\u001b[0m\n\u001b[1;32m     10\u001b[0m \u001b[0mlabels\u001b[0m \u001b[0;34m=\u001b[0m \u001b[0;34m[\u001b[0m\u001b[0;34m'Tích cực'\u001b[0m\u001b[0;34m,\u001b[0m \u001b[0;34m\"Tiêu cực\"\u001b[0m\u001b[0;34m]\u001b[0m\u001b[0;34m\u001b[0m\u001b[0;34m\u001b[0m\u001b[0m\n\u001b[1;32m     11\u001b[0m \u001b[0;34m\u001b[0m\u001b[0m\n\u001b[0;32m---> 12\u001b[0;31m \u001b[0mfig\u001b[0m \u001b[0;34m=\u001b[0m \u001b[0mplt\u001b[0m\u001b[0;34m.\u001b[0m\u001b[0mfigure\u001b[0m\u001b[0;34m(\u001b[0m\u001b[0mfigsize\u001b[0m \u001b[0;34m=\u001b[0m\u001b[0;34m(\u001b[0m\u001b[0;36m10\u001b[0m\u001b[0;34m,\u001b[0m \u001b[0;36m7\u001b[0m\u001b[0;34m)\u001b[0m\u001b[0;34m)\u001b[0m\u001b[0;34m\u001b[0m\u001b[0;34m\u001b[0m\u001b[0m\n\u001b[0m\u001b[1;32m     13\u001b[0m \u001b[0mplt\u001b[0m\u001b[0;34m.\u001b[0m\u001b[0mpie\u001b[0m\u001b[0;34m(\u001b[0m\u001b[0mdata\u001b[0m\u001b[0;34m,\u001b[0m \u001b[0mlabels\u001b[0m \u001b[0;34m=\u001b[0m \u001b[0mlabels\u001b[0m\u001b[0;34m,\u001b[0m \u001b[0mexplode\u001b[0m \u001b[0;34m=\u001b[0m \u001b[0;34m(\u001b[0m\u001b[0;36m0.1\u001b[0m\u001b[0;34m,\u001b[0m \u001b[0;36m0\u001b[0m\u001b[0;34m)\u001b[0m\u001b[0;34m,\u001b[0m \u001b[0mautopct\u001b[0m\u001b[0;34m=\u001b[0m\u001b[0;34m'%1.1f%%'\u001b[0m\u001b[0;34m,\u001b[0m\u001b[0mshadow\u001b[0m\u001b[0;34m=\u001b[0m\u001b[0;32mTrue\u001b[0m\u001b[0;34m)\u001b[0m\u001b[0;34m\u001b[0m\u001b[0;34m\u001b[0m\u001b[0m\n\u001b[1;32m     14\u001b[0m \u001b[0mplt\u001b[0m\u001b[0;34m.\u001b[0m\u001b[0mtitle\u001b[0m\u001b[0;34m(\u001b[0m\u001b[0;34m'Tỉ lệ % bình luận tích cực và tiêu cực'\u001b[0m\u001b[0;34m)\u001b[0m\u001b[0;34m\u001b[0m\u001b[0;34m\u001b[0m\u001b[0m\n",
      "\u001b[0;31mNameError\u001b[0m: name 'plt' is not defined"
     ]
    }
   ],
   "source": [
    "#Tính % số lượng các loại comment\n",
    "num_trust_cmt = df['is_trust'].value_counts()[1]\n",
    "num_not_trust_cmt = df['is_trust'].value_counts()[0]\n",
    "\n",
    "trust_ratio = ((num_trust_cmt / df.shape[0])*100).round(2);\n",
    "not_trust_ratio = ((num_not_trust_cmt / df.shape[0])*100).round(2);\n",
    "not_trust_ratio\n",
    "\n",
    "data = [trust_ratio,not_trust_ratio]\n",
    "labels = ['Tích cực', \"Tiêu cực\"]\n",
    "\n",
    "fig = plt.figure(figsize =(10, 7)) \n",
    "plt.pie(data, labels = labels, explode = (0.1, 0), autopct='%1.1f%%',shadow=True) \n",
    "plt.title('Tỉ lệ % bình luận tích cực và tiêu cực')\n",
    "plt.axis('equal')\n",
    "# show plot \n",
    "plt.show() \n"
   ]
  },
  {
   "cell_type": "markdown",
   "metadata": {},
   "source": []
  },
  {
   "cell_type": "code",
   "execution_count": null,
   "metadata": {},
   "outputs": [],
   "source": [
    "#code here"
   ]
  },
  {
   "cell_type": "code",
   "execution_count": null,
   "metadata": {},
   "outputs": [],
   "source": []
  },
  {
   "cell_type": "markdown",
   "metadata": {},
   "source": [
    "# 2. Predict"
   ]
  },
  {
   "cell_type": "markdown",
   "metadata": {},
   "source": [
    "## Lấy dữ liệu comment từ  URL"
   ]
  },
  {
   "cell_type": "code",
   "execution_count": 168,
   "metadata": {},
   "outputs": [],
   "source": [
    "#code here\n",
    "\n",
    "def getAllComment(url):\n",
    "    browser = webdriver.Chrome('/Users/hoangsang/Downloads/chromedriver')\n",
    "    browser.maximize_window()\n",
    "\n",
    "    records = []\n",
    "    browser.get(url)\n",
    "    # tat quang cao\n",
    "    browser.find_element_by_css_selector('html').send_keys(Keys.ESCAPE)\n",
    "\n",
    "    # scroll\n",
    "    time.sleep(1)\n",
    "    total_height = int(browser.execute_script(\n",
    "        \"return document.body.scrollHeight\"))\n",
    "    for i in range(1, total_height, 5):\n",
    "        browser.execute_script(\"window.scrollTo(0, {});\".format(i))\n",
    "    time.sleep(3)\n",
    "\n",
    "    html_source = browser.page_source\n",
    "    soup = BeautifulSoup(html_source, 'html.parser')\n",
    "\n",
    "    button = browser.find_elements_by_css_selector(\n",
    "        'button.align-right.secondary.slidedown-button')\n",
    "\n",
    "    if(len(button) > 0):\n",
    "        button[0].click()\n",
    "\n",
    "    html_source = browser.page_source\n",
    "    soup = BeautifulSoup(html_source, 'html.parser')\n",
    "\n",
    "    commentDivs = soup.findAll(\n",
    "        \"div\", {\"class\": \"style__StyledComment-sc-103p4dk-5 dDtAUu review-comment\"})\n",
    "    for commentDiv in commentDivs:\n",
    "        cmt = commentDiv.find(\n",
    "            \"div\", {\"class\": \"review-comment__content\"}).text\n",
    "        if(len(cmt) > 0):\n",
    "            records.append(cmt)\n",
    "\n",
    "    navigationButton = browser.find_elements_by_css_selector(\n",
    "        'a.btn.next')\n",
    "\n",
    "    while len(navigationButton) > 0:\n",
    "        navigationButton[0].click()\n",
    "        time.sleep(1)\n",
    "        html_source = browser.page_source\n",
    "        soup = BeautifulSoup(html_source, 'html.parser')\n",
    "        commentDivs = soup.findAll(\n",
    "            \"div\", {\"class\": \"style__StyledComment-sc-103p4dk-5 dDtAUu review-comment\"})\n",
    "        for commentDiv in commentDivs:\n",
    "            cmt = commentDiv.find(\n",
    "                \"div\", {\"class\": \"review-comment__content\"}).text\n",
    "            if(len(cmt) > 0):\n",
    "                records.append(cmt)\n",
    "        navigationButton = browser.find_elements_by_css_selector(\n",
    "            'a.btn.next')\n",
    "    browser.quit()\n",
    "\n",
    "    return {'comment':records}\n"
   ]
  },
  {
   "cell_type": "markdown",
   "metadata": {},
   "source": [
    "## Xử lý dữ liệu"
   ]
  },
  {
   "source": [
    "### Word tokenizer "
   ],
   "cell_type": "markdown",
   "metadata": {}
  },
  {
   "source": [
    "Tách các comment thành từ hoặc cụm từ có nghĩa"
   ],
   "cell_type": "markdown",
   "metadata": {}
  },
  {
   "cell_type": "code",
   "execution_count": 154,
   "metadata": {},
   "outputs": [],
   "source": [
    "def tokenizer(row):\n",
    "    return word_tokenize(row, format=\"text\")"
   ]
  },
  {
   "cell_type": "code",
   "execution_count": 171,
   "metadata": {},
   "outputs": [],
   "source": [
    "#code here\n",
    "def processing_data(data):\n",
    "    # 1. Standardize data\n",
    "    data_frame = pd.DataFrame(data=data)\n",
    "    print('data frame:', data_frame['comment'])\n",
    "    data_frame[0] = data_frame['comment'].apply(standardize_data)\n",
    "\n",
    "    # 2. Tokenizer\n",
    "    data_frame[0] = data_frame['comment'].apply(tokenizer)\n",
    "\n",
    "    # 3. Embedding\n",
    "    X_val = data_frame['comment']\n",
    "    return X_val"
   ]
  },
  {
   "cell_type": "markdown",
   "metadata": {},
   "source": [
    "## Load Pre-train model BERT"
   ]
  },
  {
   "cell_type": "code",
   "execution_count": 156,
   "metadata": {},
   "outputs": [],
   "source": [
    "def load_pretrainModel(data):\n",
    "    '''\n",
    "    Load pretrain model/ tokenizers\n",
    "    Return : features\n",
    "    '''\n",
    "    model = BertModel.from_pretrained('bert-base-uncased')\n",
    "    tokenizer = BertTokenizer.from_pretrained('bert-base-uncased')\n",
    "\n",
    "    #encode lines\n",
    "    tokenized = data.apply((lambda x: tokenizer.encode(x, add_special_tokens = True,max_length=512,truncation=True)))\n",
    "\n",
    "    # get lenght max of tokenized\n",
    "    max_len = 0\n",
    "    for i in tokenized.values:\n",
    "        if len(i) > max_len:\n",
    "            max_len = len(i)\n",
    "    print('max len:', max_len)\n",
    "\n",
    "    # if lenght of tokenized not equal max_len , so padding value 0\n",
    "    padded = np.array([i + [0]*(max_len-len(i)) for i in tokenized.values])\n",
    "    print('padded:', padded[1])\n",
    "    print('len padded:', padded.shape)\n",
    "\n",
    "    #get attention mask ( 0: not has word, 1: has word)\n",
    "    attention_mask = np.where(padded ==0, 0,1)\n",
    "    print('attention mask:', attention_mask[1])\n",
    "\n",
    "    # Convert input to tensor\n",
    "    padded = torch.tensor(padded,dtype=torch.long)\n",
    "    attention_mask = torch.tensor(attention_mask)\n",
    "\n",
    "\n",
    "    # Load model\n",
    "    with torch.no_grad():\n",
    "        last_hidden_states = model(padded, attention_mask =attention_mask)\n",
    "    #     print('last hidden states:', last_hidden_states)\n",
    "\n",
    "    features = last_hidden_states[0][:,0,:].numpy()\n",
    "    print('features:', features)\n",
    "    \n",
    "    return features\n"
   ]
  },
  {
   "cell_type": "markdown",
   "metadata": {},
   "source": [
    "## Predict"
   ]
  },
  {
   "cell_type": "code",
   "execution_count": 164,
   "metadata": {},
   "outputs": [],
   "source": [
    "def predict(url):\n",
    "    # 1. Load URL and print comments\n",
    "    data = getAllComment(url)\n",
    "#     data = load_url_selenium_tiki(url)\n",
    "    data = processing_data(data)\n",
    "    features = load_pretrainModel(data)\n",
    "    # 2. Load weights\n",
    "    model = joblib.load('save_model.pkl')\n",
    "    # 3. Result\n",
    "    result = model.predict(features)\n",
    "    print(result)\n",
    "    print(analyze(result))\n"
   ]
  },
  {
   "cell_type": "code",
   "execution_count": 176,
   "metadata": {},
   "outputs": [
    {
     "output_type": "stream",
     "name": "stdout",
     "text": [
      "data frame: 0     Đóng gói bị dẹp hết, mất một số phụ kiện đi kèm vs hàng. Dù v nhưng ít nhất tôi có keo dán sắt, mong shop đóng gói kĩ hơn\n1                               Sản phẩm rất đẹp giao hàng tốt nhưng dán băng keo hộp khá nhiều nên lúc tháo ra dễ làm rách hộp\n2                                                     mặc dù hàng đóng gói không tốt lắm. Bị móp mép nhưng mô hình đẹp lắm nha.\n3                                                     dao hàng hơi chậm mô hình hay bung ra cần phải có keo 502 nữa mới chắc đc\n4                                                               Hàng đẹp và cũng y hình luôn ạ. Có hai đầu để thay cho Ace nữa.\n5                                                             đẹp, chất lượng ,có 2 đầu để mọi người thay ra thay vào 👍 nên mua\n6                                                                                                                     cũng được\n7                                                                         mo hinh dep nhu hinh, hài long lắm...................\n8                                                                                                                     Tuyệt vời\n9                                                                                                                       đẹp quá\n10                                                                                                                   nên nhé ae\n11                                                                                                                          Đẹp\n12                                                                                                                          Đẹp\n13                                                                                                                         Nice\nName: comment, dtype: object\n"
     ]
    },
    {
     "output_type": "error",
     "ename": "NameError",
     "evalue": "name 'word_tokenize' is not defined",
     "traceback": [
      "\u001b[0;31m---------------------------------------------------------------------------\u001b[0m",
      "\u001b[0;31mNameError\u001b[0m                                 Traceback (most recent call last)",
      "\u001b[0;32m<ipython-input-176-cede42b46450>\u001b[0m in \u001b[0;36m<module>\u001b[0;34m\u001b[0m\n\u001b[1;32m      1\u001b[0m \u001b[0;31m# data = getAllComment('https://tiki.vn/mo-hinh-nhan-vat-ace-hoa-quyen-dao-hai-tac-one-piece-p35238818.html?spid=58227185')\u001b[0m\u001b[0;34m\u001b[0m\u001b[0;34m\u001b[0m\u001b[0;34m\u001b[0m\u001b[0m\n\u001b[1;32m      2\u001b[0m \u001b[0;31m# print(data)\u001b[0m\u001b[0;34m\u001b[0m\u001b[0;34m\u001b[0m\u001b[0;34m\u001b[0m\u001b[0m\n\u001b[0;32m----> 3\u001b[0;31m \u001b[0mpredict\u001b[0m\u001b[0;34m(\u001b[0m\u001b[0murl\u001b[0m \u001b[0;34m=\u001b[0m \u001b[0;34m'https://tiki.vn/mo-hinh-nhan-vat-ace-hoa-quyen-dao-hai-tac-one-piece-p35238818.html?spid=58227185'\u001b[0m\u001b[0;34m)\u001b[0m\u001b[0;34m\u001b[0m\u001b[0;34m\u001b[0m\u001b[0m\n\u001b[0m",
      "\u001b[0;32m<ipython-input-164-662201fe314e>\u001b[0m in \u001b[0;36mpredict\u001b[0;34m(url)\u001b[0m\n\u001b[1;32m      3\u001b[0m     \u001b[0mdata\u001b[0m \u001b[0;34m=\u001b[0m \u001b[0mgetAllComment\u001b[0m\u001b[0;34m(\u001b[0m\u001b[0murl\u001b[0m\u001b[0;34m)\u001b[0m\u001b[0;34m\u001b[0m\u001b[0;34m\u001b[0m\u001b[0m\n\u001b[1;32m      4\u001b[0m \u001b[0;31m#     data = load_url_selenium_tiki(url)\u001b[0m\u001b[0;34m\u001b[0m\u001b[0;34m\u001b[0m\u001b[0;34m\u001b[0m\u001b[0m\n\u001b[0;32m----> 5\u001b[0;31m     \u001b[0mdata\u001b[0m \u001b[0;34m=\u001b[0m \u001b[0mprocessing_data\u001b[0m\u001b[0;34m(\u001b[0m\u001b[0mdata\u001b[0m\u001b[0;34m)\u001b[0m\u001b[0;34m\u001b[0m\u001b[0;34m\u001b[0m\u001b[0m\n\u001b[0m\u001b[1;32m      6\u001b[0m     \u001b[0mfeatures\u001b[0m \u001b[0;34m=\u001b[0m \u001b[0mload_pretrainModel\u001b[0m\u001b[0;34m(\u001b[0m\u001b[0mdata\u001b[0m\u001b[0;34m)\u001b[0m\u001b[0;34m\u001b[0m\u001b[0;34m\u001b[0m\u001b[0m\n\u001b[1;32m      7\u001b[0m     \u001b[0;31m# 2. Load weights\u001b[0m\u001b[0;34m\u001b[0m\u001b[0;34m\u001b[0m\u001b[0;34m\u001b[0m\u001b[0m\n",
      "\u001b[0;32m<ipython-input-171-8ceaface1594>\u001b[0m in \u001b[0;36mprocessing_data\u001b[0;34m(data)\u001b[0m\n\u001b[1;32m      7\u001b[0m \u001b[0;34m\u001b[0m\u001b[0m\n\u001b[1;32m      8\u001b[0m     \u001b[0;31m# 2. Tokenizer\u001b[0m\u001b[0;34m\u001b[0m\u001b[0;34m\u001b[0m\u001b[0;34m\u001b[0m\u001b[0m\n\u001b[0;32m----> 9\u001b[0;31m     \u001b[0mdata_frame\u001b[0m\u001b[0;34m[\u001b[0m\u001b[0;36m0\u001b[0m\u001b[0;34m]\u001b[0m \u001b[0;34m=\u001b[0m \u001b[0mdata_frame\u001b[0m\u001b[0;34m[\u001b[0m\u001b[0;34m'comment'\u001b[0m\u001b[0;34m]\u001b[0m\u001b[0;34m.\u001b[0m\u001b[0mapply\u001b[0m\u001b[0;34m(\u001b[0m\u001b[0mtokenizer\u001b[0m\u001b[0;34m)\u001b[0m\u001b[0;34m\u001b[0m\u001b[0;34m\u001b[0m\u001b[0m\n\u001b[0m\u001b[1;32m     10\u001b[0m \u001b[0;34m\u001b[0m\u001b[0m\n\u001b[1;32m     11\u001b[0m     \u001b[0;31m# 3. Embedding\u001b[0m\u001b[0;34m\u001b[0m\u001b[0;34m\u001b[0m\u001b[0;34m\u001b[0m\u001b[0m\n",
      "\u001b[0;32m/usr/local/anaconda3/lib/python3.8/site-packages/pandas/core/series.py\u001b[0m in \u001b[0;36mapply\u001b[0;34m(self, func, convert_dtype, args, **kwds)\u001b[0m\n\u001b[1;32m   3846\u001b[0m             \u001b[0;32melse\u001b[0m\u001b[0;34m:\u001b[0m\u001b[0;34m\u001b[0m\u001b[0;34m\u001b[0m\u001b[0m\n\u001b[1;32m   3847\u001b[0m                 \u001b[0mvalues\u001b[0m \u001b[0;34m=\u001b[0m \u001b[0mself\u001b[0m\u001b[0;34m.\u001b[0m\u001b[0mastype\u001b[0m\u001b[0;34m(\u001b[0m\u001b[0mobject\u001b[0m\u001b[0;34m)\u001b[0m\u001b[0;34m.\u001b[0m\u001b[0mvalues\u001b[0m\u001b[0;34m\u001b[0m\u001b[0;34m\u001b[0m\u001b[0m\n\u001b[0;32m-> 3848\u001b[0;31m                 \u001b[0mmapped\u001b[0m \u001b[0;34m=\u001b[0m \u001b[0mlib\u001b[0m\u001b[0;34m.\u001b[0m\u001b[0mmap_infer\u001b[0m\u001b[0;34m(\u001b[0m\u001b[0mvalues\u001b[0m\u001b[0;34m,\u001b[0m \u001b[0mf\u001b[0m\u001b[0;34m,\u001b[0m \u001b[0mconvert\u001b[0m\u001b[0;34m=\u001b[0m\u001b[0mconvert_dtype\u001b[0m\u001b[0;34m)\u001b[0m\u001b[0;34m\u001b[0m\u001b[0;34m\u001b[0m\u001b[0m\n\u001b[0m\u001b[1;32m   3849\u001b[0m \u001b[0;34m\u001b[0m\u001b[0m\n\u001b[1;32m   3850\u001b[0m         \u001b[0;32mif\u001b[0m \u001b[0mlen\u001b[0m\u001b[0;34m(\u001b[0m\u001b[0mmapped\u001b[0m\u001b[0;34m)\u001b[0m \u001b[0;32mand\u001b[0m \u001b[0misinstance\u001b[0m\u001b[0;34m(\u001b[0m\u001b[0mmapped\u001b[0m\u001b[0;34m[\u001b[0m\u001b[0;36m0\u001b[0m\u001b[0;34m]\u001b[0m\u001b[0;34m,\u001b[0m \u001b[0mSeries\u001b[0m\u001b[0;34m)\u001b[0m\u001b[0;34m:\u001b[0m\u001b[0;34m\u001b[0m\u001b[0;34m\u001b[0m\u001b[0m\n",
      "\u001b[0;32mpandas/_libs/lib.pyx\u001b[0m in \u001b[0;36mpandas._libs.lib.map_infer\u001b[0;34m()\u001b[0m\n",
      "\u001b[0;32m<ipython-input-154-335d7bdcd3da>\u001b[0m in \u001b[0;36mtokenizer\u001b[0;34m(row)\u001b[0m\n\u001b[1;32m      1\u001b[0m \u001b[0;32mdef\u001b[0m \u001b[0mtokenizer\u001b[0m\u001b[0;34m(\u001b[0m\u001b[0mrow\u001b[0m\u001b[0;34m)\u001b[0m\u001b[0;34m:\u001b[0m\u001b[0;34m\u001b[0m\u001b[0;34m\u001b[0m\u001b[0m\n\u001b[0;32m----> 2\u001b[0;31m     \u001b[0;32mreturn\u001b[0m \u001b[0mword_tokenize\u001b[0m\u001b[0;34m(\u001b[0m\u001b[0mrow\u001b[0m\u001b[0;34m,\u001b[0m \u001b[0mformat\u001b[0m\u001b[0;34m=\u001b[0m\u001b[0;34m\"text\"\u001b[0m\u001b[0;34m)\u001b[0m\u001b[0;34m\u001b[0m\u001b[0;34m\u001b[0m\u001b[0m\n\u001b[0m",
      "\u001b[0;31mNameError\u001b[0m: name 'word_tokenize' is not defined"
     ]
    }
   ],
   "source": [
    "# data = getAllComment('https://tiki.vn/mo-hinh-nhan-vat-ace-hoa-quyen-dao-hai-tac-one-piece-p35238818.html?spid=58227185')\n",
    "# print(data)\n",
    "predict(url = 'https://tiki.vn/mo-hinh-nhan-vat-ace-hoa-quyen-dao-hai-tac-one-piece-p35238818.html?spid=58227185')"
   ]
  },
  {
   "cell_type": "code",
   "execution_count": null,
   "metadata": {},
   "outputs": [],
   "source": []
  }
 ],
 "metadata": {
  "kernelspec": {
   "display_name": "Python 3",
   "language": "python",
   "name": "python3"
  },
  "language_info": {
   "codemirror_mode": {
    "name": "ipython",
    "version": 3
   },
   "file_extension": ".py",
   "mimetype": "text/x-python",
   "name": "python",
   "nbconvert_exporter": "python",
   "pygments_lexer": "ipython3",
   "version": "3.8.3-final"
  }
 },
 "nbformat": 4,
 "nbformat_minor": 4
}