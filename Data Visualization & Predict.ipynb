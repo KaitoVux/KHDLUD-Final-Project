{
 "cells": [
  {
   "cell_type": "markdown",
   "metadata": {},
   "source": [
    "## Import các thư viện cần thiết"
   ]
  },
  {
   "cell_type": "code",
   "execution_count": 38,
   "metadata": {},
   "outputs": [],
   "source": [
    "import re #regex\n",
    "import csv\n",
    "import os\n",
    "import json\n",
    "import pandas as pd\n",
    "from pandas import DataFrame\n",
    "import urllib.request\n",
    "import joblib #load, dump pkl\n",
    "from underthesea import word_tokenize #word_tokenize of lines\n",
    "import numpy as np\n",
    "import matplotlib.pyplot as plt\n",
    "import transformers as ppb # load model BERT\n",
    "from transformers import BertModel, BertTokenizer\n",
    "import torch\n",
    "from sklearn.model_selection import train_test_split"
   ]
  },
  {
   "cell_type": "markdown",
   "metadata": {},
   "source": [
    "# 1. Data Visualization"
   ]
  },
  {
   "cell_type": "markdown",
   "metadata": {},
   "source": [
    "## Load data"
   ]
  },
  {
   "cell_type": "code",
   "execution_count": 2,
   "metadata": {},
   "outputs": [
    {
     "name": "stdout",
     "output_type": "stream",
     "text": [
      "(1399, 2)\n"
     ]
    }
   ],
   "source": [
    "file = 'tiki_comments.csv'\n",
    "df = pd.read_csv(file,sep=\",\")"
   ]
  },
  {
   "cell_type": "markdown",
   "metadata": {},
   "source": [
    "### Kích thước của bộ dữ liệu"
   ]
  },
  {
   "cell_type": "markdown",
   "metadata": {},
   "source": [
    "Dữ liệu có 1399 dòng và 2 cột."
   ]
  },
  {
   "cell_type": "code",
   "execution_count": 15,
   "metadata": {},
   "outputs": [
    {
     "data": {
      "text/plain": [
       "(1399, 2)"
      ]
     },
     "execution_count": 15,
     "metadata": {},
     "output_type": "execute_result"
    }
   ],
   "source": [
    "df.shape"
   ]
  },
  {
   "cell_type": "markdown",
   "metadata": {},
   "source": [
    "### Ý nghĩa các các cột"
   ]
  },
  {
   "cell_type": "markdown",
   "metadata": {},
   "source": [
    "Kiểu dữ liệu của các cột"
   ]
  },
  {
   "cell_type": "code",
   "execution_count": 29,
   "metadata": {},
   "outputs": [
    {
     "data": {
      "text/plain": [
       "comment     object\n",
       "is_trust     int64\n",
       "dtype: object"
      ]
     },
     "execution_count": 29,
     "metadata": {},
     "output_type": "execute_result"
    }
   ],
   "source": [
    "dtypes = df.dtypes\n",
    "dtypes"
   ]
  },
  {
   "cell_type": "markdown",
   "metadata": {},
   "source": [
    "- Cột comment dạng chuỗi là bình luận của người dùng.\n",
    "- Cột is_trust đánh giá bình luận là tích cực (1) hay tiêu cực (0). "
   ]
  },
  {
   "cell_type": "code",
   "execution_count": 17,
   "metadata": {},
   "outputs": [
    {
     "data": {
      "text/html": [
       "<div>\n",
       "<style scoped>\n",
       "    .dataframe tbody tr th:only-of-type {\n",
       "        vertical-align: middle;\n",
       "    }\n",
       "\n",
       "    .dataframe tbody tr th {\n",
       "        vertical-align: top;\n",
       "    }\n",
       "\n",
       "    .dataframe thead th {\n",
       "        text-align: right;\n",
       "    }\n",
       "</style>\n",
       "<table border=\"1\" class=\"dataframe\">\n",
       "  <thead>\n",
       "    <tr style=\"text-align: right;\">\n",
       "      <th></th>\n",
       "      <th>comment</th>\n",
       "      <th>is_trust</th>\n",
       "    </tr>\n",
       "  </thead>\n",
       "  <tbody>\n",
       "    <tr>\n",
       "      <th>0</th>\n",
       "      <td>Cực kì hài lòng, đẹp</td>\n",
       "      <td>1</td>\n",
       "    </tr>\n",
       "    <tr>\n",
       "      <th>1</th>\n",
       "      <td>Cực kì hài lòng, ok ok</td>\n",
       "      <td>1</td>\n",
       "    </tr>\n",
       "    <tr>\n",
       "      <th>2</th>\n",
       "      <td>Cực kì hài lòng, đẹp đấy</td>\n",
       "      <td>1</td>\n",
       "    </tr>\n",
       "    <tr>\n",
       "      <th>3</th>\n",
       "      <td>Cực kì hài lòng,</td>\n",
       "      <td>1</td>\n",
       "    </tr>\n",
       "    <tr>\n",
       "      <th>4</th>\n",
       "      <td>Cực kì hài lòng,</td>\n",
       "      <td>1</td>\n",
       "    </tr>\n",
       "    <tr>\n",
       "      <th>5</th>\n",
       "      <td>Cực kì hài lòng,</td>\n",
       "      <td>1</td>\n",
       "    </tr>\n",
       "    <tr>\n",
       "      <th>6</th>\n",
       "      <td>Cực kì hài lòng,</td>\n",
       "      <td>1</td>\n",
       "    </tr>\n",
       "    <tr>\n",
       "      <th>7</th>\n",
       "      <td>Cực kì hài lòng,</td>\n",
       "      <td>1</td>\n",
       "    </tr>\n",
       "    <tr>\n",
       "      <th>8</th>\n",
       "      <td>Cực kì hài lòng, Hat chia rất đều đep, date sd còn xa, tiki đóng goi cẩn thận , shipe giao hàng nhiet tinh, mong tiki giu uy tin voi khach hàng để phat triển tot hon, nhung nha ban hàng k có tam de nghi tiki loai ra khoi k để mất uy tín</td>\n",
       "      <td>1</td>\n",
       "    </tr>\n",
       "    <tr>\n",
       "      <th>9</th>\n",
       "      <td>Mua Sắm ở Tiki, Sản phẩm ok, đóng gói kỹ\\nMình dùng hạt chia kết hợp với Nước Rau củ; Thảo dược; Sữa chua cùng Trái cây; ...\\nMỗi ngày 2 muỗng cafe thôi, mà cả tháng gần nửa túi, sắp phải mua thêm  ;)))</td>\n",
       "      <td>1</td>\n",
       "    </tr>\n",
       "  </tbody>\n",
       "</table>\n",
       "</div>"
      ],
      "text/plain": [
       "                                                                                                                                                                                                                                        comment  \\\n",
       "0                                                                                                                                                                                                                          Cực kì hài lòng, đẹp   \n",
       "1                                                                                                                                                                                                                        Cực kì hài lòng, ok ok   \n",
       "2                                                                                                                                                                                                                      Cực kì hài lòng, đẹp đấy   \n",
       "3                                                                                                                                                                                                                             Cực kì hài lòng,    \n",
       "4                                                                                                                                                                                                                             Cực kì hài lòng,    \n",
       "5                                                                                                                                                                                                                             Cực kì hài lòng,    \n",
       "6                                                                                                                                                                                                                             Cực kì hài lòng,    \n",
       "7                                                                                                                                                                                                                             Cực kì hài lòng,    \n",
       "8  Cực kì hài lòng, Hat chia rất đều đep, date sd còn xa, tiki đóng goi cẩn thận , shipe giao hàng nhiet tinh, mong tiki giu uy tin voi khach hàng để phat triển tot hon, nhung nha ban hàng k có tam de nghi tiki loai ra khoi k để mất uy tín   \n",
       "9                                    Mua Sắm ở Tiki, Sản phẩm ok, đóng gói kỹ\\nMình dùng hạt chia kết hợp với Nước Rau củ; Thảo dược; Sữa chua cùng Trái cây; ...\\nMỗi ngày 2 muỗng cafe thôi, mà cả tháng gần nửa túi, sắp phải mua thêm  ;)))   \n",
       "\n",
       "   is_trust  \n",
       "0         1  \n",
       "1         1  \n",
       "2         1  \n",
       "3         1  \n",
       "4         1  \n",
       "5         1  \n",
       "6         1  \n",
       "7         1  \n",
       "8         1  \n",
       "9         1  "
      ]
     },
     "execution_count": 17,
     "metadata": {},
     "output_type": "execute_result"
    }
   ],
   "source": [
    "pd.set_option('display.max_colwidth',1000)\n",
    "df.head(10)"
   ]
  },
  {
   "cell_type": "markdown",
   "metadata": {},
   "source": [
    "## Chuẩn hoá dữ liệu"
   ]
  },
  {
   "cell_type": "markdown",
   "metadata": {},
   "source": [
    "### Xoá các dòng có giá trị cột comment trùng lặp."
   ]
  },
  {
   "cell_type": "code",
   "execution_count": 23,
   "metadata": {},
   "outputs": [
    {
     "name": "stdout",
     "output_type": "stream",
     "text": [
      "(1158, 2)\n"
     ]
    },
    {
     "data": {
      "text/html": [
       "<div>\n",
       "<style scoped>\n",
       "    .dataframe tbody tr th:only-of-type {\n",
       "        vertical-align: middle;\n",
       "    }\n",
       "\n",
       "    .dataframe tbody tr th {\n",
       "        vertical-align: top;\n",
       "    }\n",
       "\n",
       "    .dataframe thead th {\n",
       "        text-align: right;\n",
       "    }\n",
       "</style>\n",
       "<table border=\"1\" class=\"dataframe\">\n",
       "  <thead>\n",
       "    <tr style=\"text-align: right;\">\n",
       "      <th></th>\n",
       "      <th>comment</th>\n",
       "      <th>is_trust</th>\n",
       "    </tr>\n",
       "  </thead>\n",
       "  <tbody>\n",
       "    <tr>\n",
       "      <th>0</th>\n",
       "      <td>Cực kì hài lòng, đẹp</td>\n",
       "      <td>1</td>\n",
       "    </tr>\n",
       "    <tr>\n",
       "      <th>1</th>\n",
       "      <td>Cực kì hài lòng, ok ok</td>\n",
       "      <td>1</td>\n",
       "    </tr>\n",
       "    <tr>\n",
       "      <th>2</th>\n",
       "      <td>Cực kì hài lòng, đẹp đấy</td>\n",
       "      <td>1</td>\n",
       "    </tr>\n",
       "    <tr>\n",
       "      <th>3</th>\n",
       "      <td>Cực kì hài lòng,</td>\n",
       "      <td>1</td>\n",
       "    </tr>\n",
       "    <tr>\n",
       "      <th>8</th>\n",
       "      <td>Cực kì hài lòng, Hat chia rất đều đep, date sd còn xa, tiki đóng goi cẩn thận , shipe giao hàng nhiet tinh, mong tiki giu uy tin voi khach hàng để phat triển tot hon, nhung nha ban hàng k có tam de nghi tiki loai ra khoi k để mất uy tín</td>\n",
       "      <td>1</td>\n",
       "    </tr>\n",
       "    <tr>\n",
       "      <th>9</th>\n",
       "      <td>Mua Sắm ở Tiki, Sản phẩm ok, đóng gói kỹ\\nMình dùng hạt chia kết hợp với Nước Rau củ; Thảo dược; Sữa chua cùng Trái cây; ...\\nMỗi ngày 2 muỗng cafe thôi, mà cả tháng gần nửa túi, sắp phải mua thêm  ;)))</td>\n",
       "      <td>1</td>\n",
       "    </tr>\n",
       "    <tr>\n",
       "      <th>10</th>\n",
       "      <td>Chất lượng va rẻ, Hat to, no đều đẹp,ko bi von cục. Đúng la chất lượng hơn chỗ khac</td>\n",
       "      <td>1</td>\n",
       "    </tr>\n",
       "    <tr>\n",
       "      <th>11</th>\n",
       "      <td>Cực kì hài lòng, Túi rất to, hạt chia đẹp, to đều, không hề thấy sạn hay cỏ rác như các loại đã mua trước đây. Vô cùng hài lòng với sản phẩm này.</td>\n",
       "      <td>1</td>\n",
       "    </tr>\n",
       "    <tr>\n",
       "      <th>12</th>\n",
       "      <td>Cực kì hài lòng, Lúc mua mình không biết có phải loại dởm không vì rẻ như vậy. Tuy nhiên nhận hàng thấy chắc chắn, đáng tin, còn được tặng kèm nho khô nữa ạ!</td>\n",
       "      <td>1</td>\n",
       "    </tr>\n",
       "    <tr>\n",
       "      <th>13</th>\n",
       "      <td>Hàng như hình, Hàng đúng mô tả, hạt to không lẫn sạn. Mình dùng không thường xuyên nên mấy tháng rồi chưa hết nửa kg, mua cho cả gia đình dùng thì ok.</td>\n",
       "      <td>1</td>\n",
       "    </tr>\n",
       "  </tbody>\n",
       "</table>\n",
       "</div>"
      ],
      "text/plain": [
       "                                                                                                                                                                                                                                         comment  \\\n",
       "0                                                                                                                                                                                                                           Cực kì hài lòng, đẹp   \n",
       "1                                                                                                                                                                                                                         Cực kì hài lòng, ok ok   \n",
       "2                                                                                                                                                                                                                       Cực kì hài lòng, đẹp đấy   \n",
       "3                                                                                                                                                                                                                              Cực kì hài lòng,    \n",
       "8   Cực kì hài lòng, Hat chia rất đều đep, date sd còn xa, tiki đóng goi cẩn thận , shipe giao hàng nhiet tinh, mong tiki giu uy tin voi khach hàng để phat triển tot hon, nhung nha ban hàng k có tam de nghi tiki loai ra khoi k để mất uy tín   \n",
       "9                                     Mua Sắm ở Tiki, Sản phẩm ok, đóng gói kỹ\\nMình dùng hạt chia kết hợp với Nước Rau củ; Thảo dược; Sữa chua cùng Trái cây; ...\\nMỗi ngày 2 muỗng cafe thôi, mà cả tháng gần nửa túi, sắp phải mua thêm  ;)))   \n",
       "10                                                                                                                                                           Chất lượng va rẻ, Hat to, no đều đẹp,ko bi von cục. Đúng la chất lượng hơn chỗ khac   \n",
       "11                                                                                             Cực kì hài lòng, Túi rất to, hạt chia đẹp, to đều, không hề thấy sạn hay cỏ rác như các loại đã mua trước đây. Vô cùng hài lòng với sản phẩm này.   \n",
       "12                                                                                 Cực kì hài lòng, Lúc mua mình không biết có phải loại dởm không vì rẻ như vậy. Tuy nhiên nhận hàng thấy chắc chắn, đáng tin, còn được tặng kèm nho khô nữa ạ!   \n",
       "13                                                                                        Hàng như hình, Hàng đúng mô tả, hạt to không lẫn sạn. Mình dùng không thường xuyên nên mấy tháng rồi chưa hết nửa kg, mua cho cả gia đình dùng thì ok.   \n",
       "\n",
       "    is_trust  \n",
       "0          1  \n",
       "1          1  \n",
       "2          1  \n",
       "3          1  \n",
       "8          1  \n",
       "9          1  \n",
       "10         1  \n",
       "11         1  \n",
       "12         1  \n",
       "13         1  "
      ]
     },
     "execution_count": 23,
     "metadata": {},
     "output_type": "execute_result"
    }
   ],
   "source": [
    "# Đếm số lượng dòng trùng lặp\n",
    "num_duplicated_rows = df.duplicated(['comment']).sum()\n",
    "num_duplicated_rows\n",
    "# Xoá các dòng trùng\n",
    "df.drop_duplicates(subset =\"comment\", keep = 'first', inplace = True) \n",
    "\n",
    "print(df.shape)\n",
    "df.head(10)"
   ]
  },
  {
   "cell_type": "markdown",
   "metadata": {},
   "source": [
    "### Chuẩn hoá comment\n",
    "Dữ liệu hiện đang chứa những kí tự như dấu chấm câu, kí tự đặc biệt, icon,... Những kí tự này không cần thiết cho việc khai phá dữ liệu nên ta sẽ tiến hành loại bỏ chúng. Các bước loại bỏ:\n",
    "- Xoá đi các dấu chấm câu như (. , ? ; ...)\n",
    "- Xoá đi các kí tự đặc biệt: @,#,*,...\n",
    "- Xoá khoảng trắng đầu và cuối mỗi comment, xoá  khoảng trắng dư thừa giữa các từ.\n",
    "- Xoá đi icons và emoji."
   ]
  },
  {
   "cell_type": "code",
   "execution_count": 4,
   "metadata": {},
   "outputs": [],
   "source": [
    "def standardize_data(row):\n",
    "    row = re.sub(r\"[\\.,\\?]+$-\", \"\", row)\n",
    "    row = re.sub(r'[^\\w]',' ', row) \n",
    "    row = row.replace(\",\", \" \").replace(\".\", \" \") \\\n",
    "        .replace(\";\", \" \").replace(\"“\", \" \") \\\n",
    "        .replace(\":\", \" \").replace(\"”\", \" \") \\\n",
    "        .replace('\"', \" \").replace(\"'\", \" \") \\\n",
    "        .replace(\"!\", \" \").replace(\"?\", \" \") \\\n",
    "        .replace(\"-\", \" \").replace(\"?\", \" \")\n",
    "    row = row.strip()\n",
    "    row = \" \".join(row.split())\n",
    "    return row"
   ]
  },
  {
   "cell_type": "markdown",
   "metadata": {},
   "source": [
    "Comment trước khi chuẩn hoá"
   ]
  },
  {
   "cell_type": "code",
   "execution_count": 26,
   "metadata": {},
   "outputs": [
    {
     "data": {
      "text/html": [
       "<div>\n",
       "<style scoped>\n",
       "    .dataframe tbody tr th:only-of-type {\n",
       "        vertical-align: middle;\n",
       "    }\n",
       "\n",
       "    .dataframe tbody tr th {\n",
       "        vertical-align: top;\n",
       "    }\n",
       "\n",
       "    .dataframe thead th {\n",
       "        text-align: right;\n",
       "    }\n",
       "</style>\n",
       "<table border=\"1\" class=\"dataframe\">\n",
       "  <thead>\n",
       "    <tr style=\"text-align: right;\">\n",
       "      <th></th>\n",
       "      <th>comment</th>\n",
       "      <th>is_trust</th>\n",
       "    </tr>\n",
       "  </thead>\n",
       "  <tbody>\n",
       "    <tr>\n",
       "      <th>24</th>\n",
       "      <td>Cực kì hài lòng, Đèn ok!!! đẹp. ko bị trầy. gói cẩn thận. hợp với bàn nhỏ. Thích nhất là chân đèn. rất tiết kiệm diện tích. thiết kế thông minh!!. Còn có bóng đèn hay ko. ko quan trọng. có3 chế độ sáng  tùy người thích ánh sáng vàng hay trắng.. khỏi phí. đáng đồng tiền. bàn to thì nên mua đèn mắc hơn.</td>\n",
       "      <td>1</td>\n",
       "    </tr>\n",
       "    <tr>\n",
       "      <th>25</th>\n",
       "      <td>Cực kì hài lòng, Đèn đẹp, chắc chắn, đế nặng. Cổ đèn ko giống hình quảng cáo nhưng mình lại thích cổ đèn như này hơn. Nhìn xinh, Mỗi tội mua đèn nhưng ko có kèm bóng đèn phải mua ngoài. Mình xem có shop họ đóng trong hộp xốp như hộp đóng bộ ấm chén thì có đèn kèm theo. Ở đây chỉ thấy đóng trong thùng carton đế được bọc trong miếng bìa carton nữa. Ngoài thùng quấn nilon cùng xốp 2 mặt rất chắc chắn. Dù sao với cung cách gói sp và shipper nhiệt tình thì cho Tiki 5*.</td>\n",
       "      <td>1</td>\n",
       "    </tr>\n",
       "    <tr>\n",
       "      <th>26</th>\n",
       "      <td>ngon bổ rẻ, đèn sáng đủ 3 chế độ sáng thường, vàng ấm và siêu sáng. Riêng màu vàng ấm tối bật lên làm đèn ngủ luôn, siêu ấm cúng. Cảm ứng siêu nhạy chạm dô cái sáng chưa tới 3 giây. Thích hơn nữa là có chỗ đựng bút nho nhỏ xinh xinh. Túm lại với giá tiền như vậy mà đc như thế là OK lắm đó cả nhà. À quên ai làm youtuber quất luôn em này về làm đèn chiếu trước camera 😆</td>\n",
       "      <td>1</td>\n",
       "    </tr>\n",
       "    <tr>\n",
       "      <th>27</th>\n",
       "      <td>Hài Lòng, Mình đã sử dụng khoảng 1 tháng rồi, giờ mới quay lại đánh giá... Sản phẩm cực kì tốt với giá tiền, với 3 màu sắc khác nhau giúp ta linh hoạt được trong việc học cũng như các việc khác. Thiết kế nhỉ gọn, xinh xắn, đáng yêu. Màu sắc sản phẩm trang nhã. Đèn khi đầy pin phát sáng được từ 3 đến 4 tiếng và đến giờ vẫn chưa có hiện tượng chay pin. Rất ưng ý và hài lòng.</td>\n",
       "      <td>1</td>\n",
       "    </tr>\n",
       "    <tr>\n",
       "      <th>28</th>\n",
       "      <td>Không hài lòng, Sản phẩm lỗi, 1/3 màu đèn không đủ sáng mà chỉ lên lờ mờ ngay khi vừa nhận sản phẩm. Mong muốn đổi lại hoặc trả hàng mua sản phẩm khác vì chất lượng không như mong muốn</td>\n",
       "      <td>0</td>\n",
       "    </tr>\n",
       "    <tr>\n",
       "      <th>29</th>\n",
       "      <td>Cực kì hài lòng, Mình mua 11.11, sale còn 143k, quá rẻ lun. Sữa tắm thơm, nhiều bọt, dùng 1 lượng ít hơn sản phẩm khác. Giao hành nhanh, 5 sao.</td>\n",
       "      <td>1</td>\n",
       "    </tr>\n",
       "    <tr>\n",
       "      <th>30</th>\n",
       "      <td>Hàng cao cấp, Hàng cao cấp, thơm ngào ngạt luôn á, mua đc tặng xà bông + giá sale nữa, quá thích.</td>\n",
       "      <td>1</td>\n",
       "    </tr>\n",
       "    <tr>\n",
       "      <th>31</th>\n",
       "      <td>Cực kì hài lòng, Đóng gói quá chuẩn,hàng thì ok. Anh giao hàng quá dễ thương. Cám ơn tiki</td>\n",
       "      <td>1</td>\n",
       "    </tr>\n",
       "    <tr>\n",
       "      <th>32</th>\n",
       "      <td>Cực kì hài lòng, giao hàng cực nhanh, đóng gói đẹp, sản phẩm như mô tả</td>\n",
       "      <td>1</td>\n",
       "    </tr>\n",
       "    <tr>\n",
       "      <th>33</th>\n",
       "      <td>Cực kì hài lòng, Giao hàng nhanh, shipper lại dễ thương nữa 😊😊</td>\n",
       "      <td>1</td>\n",
       "    </tr>\n",
       "  </tbody>\n",
       "</table>\n",
       "</div>"
      ],
      "text/plain": [
       "                                                                                                                                                                                                                                                                                                                                                                                                                                                                                 comment  \\\n",
       "24                                                                                                                                                                        Cực kì hài lòng, Đèn ok!!! đẹp. ko bị trầy. gói cẩn thận. hợp với bàn nhỏ. Thích nhất là chân đèn. rất tiết kiệm diện tích. thiết kế thông minh!!. Còn có bóng đèn hay ko. ko quan trọng. có3 chế độ sáng  tùy người thích ánh sáng vàng hay trắng.. khỏi phí. đáng đồng tiền. bàn to thì nên mua đèn mắc hơn.   \n",
       "25  Cực kì hài lòng, Đèn đẹp, chắc chắn, đế nặng. Cổ đèn ko giống hình quảng cáo nhưng mình lại thích cổ đèn như này hơn. Nhìn xinh, Mỗi tội mua đèn nhưng ko có kèm bóng đèn phải mua ngoài. Mình xem có shop họ đóng trong hộp xốp như hộp đóng bộ ấm chén thì có đèn kèm theo. Ở đây chỉ thấy đóng trong thùng carton đế được bọc trong miếng bìa carton nữa. Ngoài thùng quấn nilon cùng xốp 2 mặt rất chắc chắn. Dù sao với cung cách gói sp và shipper nhiệt tình thì cho Tiki 5*.   \n",
       "26                                                                                                     ngon bổ rẻ, đèn sáng đủ 3 chế độ sáng thường, vàng ấm và siêu sáng. Riêng màu vàng ấm tối bật lên làm đèn ngủ luôn, siêu ấm cúng. Cảm ứng siêu nhạy chạm dô cái sáng chưa tới 3 giây. Thích hơn nữa là có chỗ đựng bút nho nhỏ xinh xinh. Túm lại với giá tiền như vậy mà đc như thế là OK lắm đó cả nhà. À quên ai làm youtuber quất luôn em này về làm đèn chiếu trước camera 😆   \n",
       "27                                                                                               Hài Lòng, Mình đã sử dụng khoảng 1 tháng rồi, giờ mới quay lại đánh giá... Sản phẩm cực kì tốt với giá tiền, với 3 màu sắc khác nhau giúp ta linh hoạt được trong việc học cũng như các việc khác. Thiết kế nhỉ gọn, xinh xắn, đáng yêu. Màu sắc sản phẩm trang nhã. Đèn khi đầy pin phát sáng được từ 3 đến 4 tiếng và đến giờ vẫn chưa có hiện tượng chay pin. Rất ưng ý và hài lòng.   \n",
       "28                                                                                                                                                                                                                                                                                              Không hài lòng, Sản phẩm lỗi, 1/3 màu đèn không đủ sáng mà chỉ lên lờ mờ ngay khi vừa nhận sản phẩm. Mong muốn đổi lại hoặc trả hàng mua sản phẩm khác vì chất lượng không như mong muốn   \n",
       "29                                                                                                                                                                                                                                                                                                                                       Cực kì hài lòng, Mình mua 11.11, sale còn 143k, quá rẻ lun. Sữa tắm thơm, nhiều bọt, dùng 1 lượng ít hơn sản phẩm khác. Giao hành nhanh, 5 sao.   \n",
       "30                                                                                                                                                                                                                                                                                                                                                                                     Hàng cao cấp, Hàng cao cấp, thơm ngào ngạt luôn á, mua đc tặng xà bông + giá sale nữa, quá thích.   \n",
       "31                                                                                                                                                                                                                                                                                                                                                                                             Cực kì hài lòng, Đóng gói quá chuẩn,hàng thì ok. Anh giao hàng quá dễ thương. Cám ơn tiki   \n",
       "32                                                                                                                                                                                                                                                                                                                                                                                                                Cực kì hài lòng, giao hàng cực nhanh, đóng gói đẹp, sản phẩm như mô tả   \n",
       "33                                                                                                                                                                                                                                                                                                                                                                                                                        Cực kì hài lòng, Giao hàng nhanh, shipper lại dễ thương nữa 😊😊   \n",
       "\n",
       "    is_trust  \n",
       "24         1  \n",
       "25         1  \n",
       "26         1  \n",
       "27         1  \n",
       "28         0  \n",
       "29         1  \n",
       "30         1  \n",
       "31         1  \n",
       "32         1  \n",
       "33         1  "
      ]
     },
     "execution_count": 26,
     "metadata": {},
     "output_type": "execute_result"
    }
   ],
   "source": [
    "df[20:30]"
   ]
  },
  {
   "cell_type": "markdown",
   "metadata": {},
   "source": [
    "### Sau khi chuẩn hoá"
   ]
  },
  {
   "cell_type": "code",
   "execution_count": 28,
   "metadata": {},
   "outputs": [
    {
     "data": {
      "text/html": [
       "<div>\n",
       "<style scoped>\n",
       "    .dataframe tbody tr th:only-of-type {\n",
       "        vertical-align: middle;\n",
       "    }\n",
       "\n",
       "    .dataframe tbody tr th {\n",
       "        vertical-align: top;\n",
       "    }\n",
       "\n",
       "    .dataframe thead th {\n",
       "        text-align: right;\n",
       "    }\n",
       "</style>\n",
       "<table border=\"1\" class=\"dataframe\">\n",
       "  <thead>\n",
       "    <tr style=\"text-align: right;\">\n",
       "      <th></th>\n",
       "      <th>comment</th>\n",
       "      <th>is_trust</th>\n",
       "    </tr>\n",
       "  </thead>\n",
       "  <tbody>\n",
       "    <tr>\n",
       "      <th>24</th>\n",
       "      <td>Cực kì hài lòng Đèn ok đẹp ko bị trầy gói cẩn thận hợp với bàn nhỏ Thích nhất là chân đèn rất tiết kiệm diện tích thiết kế thông minh Còn có bóng đèn hay ko ko quan trọng có3 chế độ sáng tùy người thích ánh sáng vàng hay trắng khỏi phí đáng đồng tiền bàn to thì nên mua đèn mắc hơn</td>\n",
       "      <td>1</td>\n",
       "    </tr>\n",
       "    <tr>\n",
       "      <th>25</th>\n",
       "      <td>Cực kì hài lòng Đèn đẹp chắc chắn đế nặng Cổ đèn ko giống hình quảng cáo nhưng mình lại thích cổ đèn như này hơn Nhìn xinh Mỗi tội mua đèn nhưng ko có kèm bóng đèn phải mua ngoài Mình xem có shop họ đóng trong hộp xốp như hộp đóng bộ ấm chén thì có đèn kèm theo Ở đây chỉ thấy đóng trong thùng carton đế được bọc trong miếng bìa carton nữa Ngoài thùng quấn nilon cùng xốp 2 mặt rất chắc chắn Dù sao với cung cách gói sp và shipper nhiệt tình thì cho Tiki 5</td>\n",
       "      <td>1</td>\n",
       "    </tr>\n",
       "    <tr>\n",
       "      <th>26</th>\n",
       "      <td>ngon bổ rẻ đèn sáng đủ 3 chế độ sáng thường vàng ấm và siêu sáng Riêng màu vàng ấm tối bật lên làm đèn ngủ luôn siêu ấm cúng Cảm ứng siêu nhạy chạm dô cái sáng chưa tới 3 giây Thích hơn nữa là có chỗ đựng bút nho nhỏ xinh xinh Túm lại với giá tiền như vậy mà đc như thế là OK lắm đó cả nhà À quên ai làm youtuber quất luôn em này về làm đèn chiếu trước camera</td>\n",
       "      <td>1</td>\n",
       "    </tr>\n",
       "    <tr>\n",
       "      <th>27</th>\n",
       "      <td>Hài Lòng Mình đã sử dụng khoảng 1 tháng rồi giờ mới quay lại đánh giá Sản phẩm cực kì tốt với giá tiền với 3 màu sắc khác nhau giúp ta linh hoạt được trong việc học cũng như các việc khác Thiết kế nhỉ gọn xinh xắn đáng yêu Màu sắc sản phẩm trang nhã Đèn khi đầy pin phát sáng được từ 3 đến 4 tiếng và đến giờ vẫn chưa có hiện tượng chay pin Rất ưng ý và hài lòng</td>\n",
       "      <td>1</td>\n",
       "    </tr>\n",
       "    <tr>\n",
       "      <th>28</th>\n",
       "      <td>Không hài lòng Sản phẩm lỗi 1 3 màu đèn không đủ sáng mà chỉ lên lờ mờ ngay khi vừa nhận sản phẩm Mong muốn đổi lại hoặc trả hàng mua sản phẩm khác vì chất lượng không như mong muốn</td>\n",
       "      <td>0</td>\n",
       "    </tr>\n",
       "    <tr>\n",
       "      <th>29</th>\n",
       "      <td>Cực kì hài lòng Mình mua 11 11 sale còn 143k quá rẻ lun Sữa tắm thơm nhiều bọt dùng 1 lượng ít hơn sản phẩm khác Giao hành nhanh 5 sao</td>\n",
       "      <td>1</td>\n",
       "    </tr>\n",
       "    <tr>\n",
       "      <th>30</th>\n",
       "      <td>Hàng cao cấp Hàng cao cấp thơm ngào ngạt luôn á mua đc tặng xà bông giá sale nữa quá thích</td>\n",
       "      <td>1</td>\n",
       "    </tr>\n",
       "    <tr>\n",
       "      <th>31</th>\n",
       "      <td>Cực kì hài lòng Đóng gói quá chuẩn hàng thì ok Anh giao hàng quá dễ thương Cám ơn tiki</td>\n",
       "      <td>1</td>\n",
       "    </tr>\n",
       "    <tr>\n",
       "      <th>32</th>\n",
       "      <td>Cực kì hài lòng giao hàng cực nhanh đóng gói đẹp sản phẩm như mô tả</td>\n",
       "      <td>1</td>\n",
       "    </tr>\n",
       "    <tr>\n",
       "      <th>33</th>\n",
       "      <td>Cực kì hài lòng Giao hàng nhanh shipper lại dễ thương nữa</td>\n",
       "      <td>1</td>\n",
       "    </tr>\n",
       "  </tbody>\n",
       "</table>\n",
       "</div>"
      ],
      "text/plain": [
       "                                                                                                                                                                                                                                                                                                                                                                                                                                                                     comment  \\\n",
       "24                                                                                                                                                                                 Cực kì hài lòng Đèn ok đẹp ko bị trầy gói cẩn thận hợp với bàn nhỏ Thích nhất là chân đèn rất tiết kiệm diện tích thiết kế thông minh Còn có bóng đèn hay ko ko quan trọng có3 chế độ sáng tùy người thích ánh sáng vàng hay trắng khỏi phí đáng đồng tiền bàn to thì nên mua đèn mắc hơn   \n",
       "25  Cực kì hài lòng Đèn đẹp chắc chắn đế nặng Cổ đèn ko giống hình quảng cáo nhưng mình lại thích cổ đèn như này hơn Nhìn xinh Mỗi tội mua đèn nhưng ko có kèm bóng đèn phải mua ngoài Mình xem có shop họ đóng trong hộp xốp như hộp đóng bộ ấm chén thì có đèn kèm theo Ở đây chỉ thấy đóng trong thùng carton đế được bọc trong miếng bìa carton nữa Ngoài thùng quấn nilon cùng xốp 2 mặt rất chắc chắn Dù sao với cung cách gói sp và shipper nhiệt tình thì cho Tiki 5   \n",
       "26                                                                                                   ngon bổ rẻ đèn sáng đủ 3 chế độ sáng thường vàng ấm và siêu sáng Riêng màu vàng ấm tối bật lên làm đèn ngủ luôn siêu ấm cúng Cảm ứng siêu nhạy chạm dô cái sáng chưa tới 3 giây Thích hơn nữa là có chỗ đựng bút nho nhỏ xinh xinh Túm lại với giá tiền như vậy mà đc như thế là OK lắm đó cả nhà À quên ai làm youtuber quất luôn em này về làm đèn chiếu trước camera   \n",
       "27                                                                                                Hài Lòng Mình đã sử dụng khoảng 1 tháng rồi giờ mới quay lại đánh giá Sản phẩm cực kì tốt với giá tiền với 3 màu sắc khác nhau giúp ta linh hoạt được trong việc học cũng như các việc khác Thiết kế nhỉ gọn xinh xắn đáng yêu Màu sắc sản phẩm trang nhã Đèn khi đầy pin phát sáng được từ 3 đến 4 tiếng và đến giờ vẫn chưa có hiện tượng chay pin Rất ưng ý và hài lòng   \n",
       "28                                                                                                                                                                                                                                                                                     Không hài lòng Sản phẩm lỗi 1 3 màu đèn không đủ sáng mà chỉ lên lờ mờ ngay khi vừa nhận sản phẩm Mong muốn đổi lại hoặc trả hàng mua sản phẩm khác vì chất lượng không như mong muốn   \n",
       "29                                                                                                                                                                                                                                                                                                                                    Cực kì hài lòng Mình mua 11 11 sale còn 143k quá rẻ lun Sữa tắm thơm nhiều bọt dùng 1 lượng ít hơn sản phẩm khác Giao hành nhanh 5 sao   \n",
       "30                                                                                                                                                                                                                                                                                                                                                                                Hàng cao cấp Hàng cao cấp thơm ngào ngạt luôn á mua đc tặng xà bông giá sale nữa quá thích   \n",
       "31                                                                                                                                                                                                                                                                                                                                                                                    Cực kì hài lòng Đóng gói quá chuẩn hàng thì ok Anh giao hàng quá dễ thương Cám ơn tiki   \n",
       "32                                                                                                                                                                                                                                                                                                                                                                                                       Cực kì hài lòng giao hàng cực nhanh đóng gói đẹp sản phẩm như mô tả   \n",
       "33                                                                                                                                                                                                                                                                                                                                                                                                                 Cực kì hài lòng Giao hàng nhanh shipper lại dễ thương nữa   \n",
       "\n",
       "    is_trust  \n",
       "24         1  \n",
       "25         1  \n",
       "26         1  \n",
       "27         1  \n",
       "28         0  \n",
       "29         1  \n",
       "30         1  \n",
       "31         1  \n",
       "32         1  \n",
       "33         1  "
      ]
     },
     "execution_count": 28,
     "metadata": {},
     "output_type": "execute_result"
    }
   ],
   "source": [
    "df['comment'] = df['comment'].apply(standardize_data)\n",
    "df[20:30]"
   ]
  },
  {
   "cell_type": "markdown",
   "metadata": {},
   "source": [
    "### Lưu dữ liệu phục vụ cho việc train model"
   ]
  },
  {
   "cell_type": "code",
   "execution_count": 52,
   "metadata": {},
   "outputs": [
    {
     "data": {
      "text/plain": [
       "(1158, 2)"
      ]
     },
     "execution_count": 52,
     "metadata": {},
     "output_type": "execute_result"
    }
   ],
   "source": [
    "df.to_csv ('formated__dataset.csv', index = False, header=True)"
   ]
  },
  {
   "cell_type": "markdown",
   "metadata": {},
   "source": [
    "## Trực quan hoá dữ liệu"
   ]
  },
  {
   "cell_type": "markdown",
   "metadata": {},
   "source": [
    "<b>Câu hỏi:</b> Tỉ lệ các loại comment trong tập dữ liệu.<br>\n",
    "Ta sẽ tính toán xem mỗi loại comment chiếm bao nhiêu phầm trăm (%) trong tập dữ liệu."
   ]
  },
  {
   "cell_type": "code",
   "execution_count": 50,
   "metadata": {},
   "outputs": [
    {
     "data": {
      "image/png": "[encoded data removed]",
      "text/plain": [
       "<Figure size 720x504 with 1 Axes>"
      ]
     },
     "metadata": {},
     "output_type": "display_data"
    }
   ],
   "source": [
    "#Tính % số lượng các loại comment\n",
    "num_trust_cmt = df['is_trust'].value_counts()[1]\n",
    "num_not_trust_cmt = df['is_trust'].value_counts()[0]\n",
    "\n",
    "trust_ratio = ((num_trust_cmt / df.shape[0])*100).round(2);\n",
    "not_trust_ratio = ((num_not_trust_cmt / df.shape[0])*100).round(2);\n",
    "not_trust_ratio\n",
    "\n",
    "data = [trust_ratio,not_trust_ratio]\n",
    "labels = ['Tích cực', \"Tiêu cực\"]\n",
    "\n",
    "fig = plt.figure(figsize =(10, 7)) \n",
    "plt.pie(data, labels = labels, explode = (0.1, 0), autopct='%1.1f%%',shadow=True) \n",
    "plt.title('Tỉ lệ % bình luận tích cực và tiêu cực')\n",
    "plt.axis('equal')\n",
    "# show plot \n",
    "plt.show() \n"
   ]
  },
  {
   "cell_type": "markdown",
   "metadata": {},
   "source": []
  },
  {
   "cell_type": "code",
   "execution_count": 10,
   "metadata": {},
   "outputs": [],
   "source": [
    "#code here"
   ]
  },
  {
   "cell_type": "code",
   "execution_count": null,
   "metadata": {},
   "outputs": [],
   "source": []
  },
  {
   "cell_type": "markdown",
   "metadata": {},
   "source": [
    "# 2. Predict"
   ]
  },
  {
   "cell_type": "markdown",
   "metadata": {},
   "source": [
    "## Lấy dữ liệu comment từ  URL"
   ]
  },
  {
   "cell_type": "code",
   "execution_count": 11,
   "metadata": {},
   "outputs": [],
   "source": [
    "#code here"
   ]
  },
  {
   "cell_type": "markdown",
   "metadata": {},
   "source": [
    "## Xử lý dữ liệu"
   ]
  },
  {
   "cell_type": "code",
   "execution_count": 12,
   "metadata": {},
   "outputs": [],
   "source": [
    "#code here\n",
    "def processing_data(data):\n",
    "    # 1. Standardize data\n",
    "    data_frame = pd.DataFrame(data)\n",
    "    print('data frame:', data_frame)\n",
    "    data_frame[0] = data_frame[0].apply(standardize_data)\n",
    "\n",
    "    # 2. Tokenizer\n",
    "    data_frame[0] = data_frame[0].apply(tokenizer)\n",
    "\n",
    "    # 3. Embedding\n",
    "    X_val = data_frame[0]\n",
    "    return X_val"
   ]
  },
  {
   "cell_type": "markdown",
   "metadata": {},
   "source": [
    "## Load Pre-train model BERT"
   ]
  },
  {
   "cell_type": "code",
   "execution_count": 13,
   "metadata": {},
   "outputs": [],
   "source": [
    "def load_pretrainModel(data):\n",
    "    '''\n",
    "    Load pretrain model/ tokenizers\n",
    "    Return : features\n",
    "    '''\n",
    "    model = BertModel.from_pretrained('bert-base-uncased')\n",
    "    tokenizer = BertTokenizer.from_pretrained('bert-base-uncased')\n",
    "\n",
    "    #encode lines\n",
    "    tokenized = data.apply((lambda x: tokenizer.encode(x, add_special_tokens = True,max_length=512,truncation=True)))\n",
    "\n",
    "    # get lenght max of tokenized\n",
    "    max_len = 0\n",
    "    for i in tokenized.values:\n",
    "        if len(i) > max_len:\n",
    "            max_len = len(i)\n",
    "    print('max len:', max_len)\n",
    "\n",
    "    # if lenght of tokenized not equal max_len , so padding value 0\n",
    "    padded = np.array([i + [0]*(max_len-len(i)) for i in tokenized.values])\n",
    "    print('padded:', padded[1])\n",
    "    print('len padded:', padded.shape)\n",
    "\n",
    "    #get attention mask ( 0: not has word, 1: has word)\n",
    "    attention_mask = np.where(padded ==0, 0,1)\n",
    "    print('attention mask:', attention_mask[1])\n",
    "\n",
    "    # Convert input to tensor\n",
    "    padded = torch.tensor(padded,dtype=torch.long)\n",
    "    attention_mask = torch.tensor(attention_mask)\n",
    "\n",
    "\n",
    "    # Load model\n",
    "    with torch.no_grad():\n",
    "        last_hidden_states = model(padded, attention_mask =attention_mask)\n",
    "    #     print('last hidden states:', last_hidden_states)\n",
    "\n",
    "    features = last_hidden_states[0][:,0,:].numpy()\n",
    "    print('features:', features)\n",
    "    \n",
    "    return features\n"
   ]
  },
  {
   "cell_type": "markdown",
   "metadata": {},
   "source": [
    "## Predict"
   ]
  },
  {
   "cell_type": "code",
   "execution_count": 14,
   "metadata": {},
   "outputs": [
    {
     "ename": "NameError",
     "evalue": "name 'load_url_selenium_lazada' is not defined",
     "output_type": "error",
     "traceback": [
      "\u001b[1;31m---------------------------------------------------------------------------\u001b[0m",
      "\u001b[1;31mNameError\u001b[0m                                 Traceback (most recent call last)",
      "\u001b[1;32m<ipython-input-14-80e5dab8793a>\u001b[0m in \u001b[0;36m<module>\u001b[1;34m\u001b[0m\n\u001b[0;32m     14\u001b[0m     \u001b[0mprint\u001b[0m\u001b[1;33m(\u001b[0m\u001b[0manalyze\u001b[0m\u001b[1;33m(\u001b[0m\u001b[0mresult\u001b[0m\u001b[1;33m)\u001b[0m\u001b[1;33m)\u001b[0m\u001b[1;33m\u001b[0m\u001b[1;33m\u001b[0m\u001b[0m\n\u001b[0;32m     15\u001b[0m \u001b[1;31m# predict(url ='https://tiki.vn/dien-thoai-samsung-galaxy-s20-plus-hang-chinh-hang-p48886153.html?src=search&2hi=0&keyword=s20&src=mega-menu')\u001b[0m\u001b[1;33m\u001b[0m\u001b[1;33m\u001b[0m\u001b[1;33m\u001b[0m\u001b[0m\n\u001b[1;32m---> 16\u001b[1;33m \u001b[0mpredict\u001b[0m\u001b[1;33m(\u001b[0m\u001b[0murl\u001b[0m \u001b[1;33m=\u001b[0m \u001b[1;34m'https://www.lazada.vn/products/iphone-8-plus-chinh-hang-vna-moi-100-chua-kich-hoat-chua-qua-su-dung-bao-hanh-12-thang-tai-ttbh-apple-tra-gop-lai-suat-0-qua-the-tin-dung-man-hinh-retina-hd-55-inch-3d-touch-chip-a11-ios11-i757986604-s1985088475.html?spm=a2o4n.searchlistcategory.list.4.46d0bdd5OzWEVE&search=1'\u001b[0m\u001b[1;33m)\u001b[0m\u001b[1;33m\u001b[0m\u001b[1;33m\u001b[0m\u001b[0m\n\u001b[0m",
      "\u001b[1;32m<ipython-input-14-80e5dab8793a>\u001b[0m in \u001b[0;36mpredict\u001b[1;34m(url)\u001b[0m\n\u001b[0;32m      3\u001b[0m     \u001b[1;32mif\u001b[0m \u001b[0murl\u001b[0m\u001b[1;33m==\u001b[0m \u001b[1;34m\"\"\u001b[0m\u001b[1;33m:\u001b[0m\u001b[1;33m\u001b[0m\u001b[1;33m\u001b[0m\u001b[0m\n\u001b[0;32m      4\u001b[0m         \u001b[0murl\u001b[0m \u001b[1;33m=\u001b[0m \u001b[1;34m\"https://tiki.vn/dien-thoai-samsung-galaxy-m31-128gb-6gb-hang-chinh-hang-p58259141.html\"\u001b[0m\u001b[1;33m\u001b[0m\u001b[1;33m\u001b[0m\u001b[0m\n\u001b[1;32m----> 5\u001b[1;33m     \u001b[0mdata\u001b[0m \u001b[1;33m=\u001b[0m \u001b[0mload_url_selenium_lazada\u001b[0m\u001b[1;33m(\u001b[0m\u001b[0murl\u001b[0m\u001b[1;33m)\u001b[0m\u001b[1;33m\u001b[0m\u001b[1;33m\u001b[0m\u001b[0m\n\u001b[0m\u001b[0;32m      6\u001b[0m \u001b[1;31m#     data = load_url_selenium_tiki(url)\u001b[0m\u001b[1;33m\u001b[0m\u001b[1;33m\u001b[0m\u001b[1;33m\u001b[0m\u001b[0m\n\u001b[0;32m      7\u001b[0m     \u001b[0mdata\u001b[0m \u001b[1;33m=\u001b[0m \u001b[0mprocessing_data\u001b[0m\u001b[1;33m(\u001b[0m\u001b[0mdata\u001b[0m\u001b[1;33m)\u001b[0m\u001b[1;33m\u001b[0m\u001b[1;33m\u001b[0m\u001b[0m\n",
      "\u001b[1;31mNameError\u001b[0m: name 'load_url_selenium_lazada' is not defined"
     ]
    }
   ],
   "source": [
    "def predict(url):\n",
    "    # 1. Load URL and print comments\n",
    "    if url== \"\":\n",
    "        url = \"https://tiki.vn/dien-thoai-samsung-galaxy-m31-128gb-6gb-hang-chinh-hang-p58259141.html\"\n",
    "    data = load_url_selenium_lazada(url)\n",
    "#     data = load_url_selenium_tiki(url)\n",
    "    data = processing_data(data)\n",
    "    features = load_pretrainModel(data)\n",
    "    # 2. Load weights\n",
    "    model = joblib.load('save_model.pkl')\n",
    "    # 3. Result\n",
    "    result = model.predict(features)\n",
    "    print(result)\n",
    "    print(analyze(result))\n",
    "# predict(url ='https://tiki.vn/dien-thoai-samsung-galaxy-s20-plus-hang-chinh-hang-p48886153.html?src=search&2hi=0&keyword=s20&src=mega-menu')\n",
    "predict(url = 'https://www.lazada.vn/products/iphone-8-plus-chinh-hang-vna-moi-100-chua-kich-hoat-chua-qua-su-dung-bao-hanh-12-thang-tai-ttbh-apple-tra-gop-lai-suat-0-qua-the-tin-dung-man-hinh-retina-hd-55-inch-3d-touch-chip-a11-ios11-i757986604-s1985088475.html?spm=a2o4n.searchlistcategory.list.4.46d0bdd5OzWEVE&search=1')"
   ]
  }
 ],
 "metadata": {
  "kernelspec": {
   "display_name": "Python 3",
   "language": "python",
   "name": "python3"
  },
  "language_info": {
   "codemirror_mode": {
    "name": "ipython",
    "version": 3
   },
   "file_extension": ".py",
   "mimetype": "text/x-python",
   "name": "python",
   "nbconvert_exporter": "python",
   "pygments_lexer": "ipython3",
   "version": "3.8.3"
  }
 },
 "nbformat": 4,
 "nbformat_minor": 4
}
