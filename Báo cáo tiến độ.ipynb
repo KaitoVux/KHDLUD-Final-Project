{
 "cells": [
  {
   "cell_type": "markdown",
   "metadata": {},
   "source": [
    "#  <center>Gợi ý mua sản phẩm trên Shopee dựa trên phân tích bình luận của khách hàng sử dụng mô hình BERT</center>"
   ]
  },
  {
   "cell_type": "markdown",
   "metadata": {},
   "source": [
    "1712338 - Vũ Trọng Đạt <br>\n",
    "1712446 - Lê Long Hồ"
   ]
  },
  {
   "cell_type": "markdown",
   "metadata": {},
   "source": [
    "## Ý tưởng"
   ]
  },
  {
   "cell_type": "markdown",
   "metadata": {},
   "source": [
    "- Tiến hành thu thập  các bình luận của sản phẩm trên Shopee, ta sẽ phân loại các bình luận là tiêu cực hay tích cực. Dựa vào tỉ lệ bình luận tích cực và tiêu cực sẽ đưa ra gợi ý cho người dùng có nên mua sản phẩm này hay không.\n",
    "- **Ứng dụng**: Giúp người dùng phần nào lựa chọn đúng sản phẩm tốt trên Shopee. \n"
   ]
  },
  {
   "cell_type": "markdown",
   "metadata": {},
   "source": [
    "## Các bước tiến hành"
   ]
  },
  {
   "cell_type": "markdown",
   "metadata": {},
   "source": [
    "- **Thu thập dữ liệu.**\n",
    "- **Chuẩn hoá dữ liệu.**\n",
    "- **Wold tokenizer.**\n",
    "- **Train model.**\n",
    "- **Predict.**"
   ]
  },
  {
   "cell_type": "markdown",
   "metadata": {},
   "source": [
    "## 1. Thu thập dữ liệu"
   ]
  },
  {
   "cell_type": "markdown",
   "metadata": {},
   "source": [
    "Dùng phương pháp parse HTML để thu thập các bình luận từ các sản phẩm theo từ khoá. Với mục đích thử nghiệm nên sẽ tiến hành thu thập với 10 từ khoá và 50 sản phẩm trên từng từ khoá. Tập dữ liệu hiện tại có 3000 records và gồm 2 cột: comment và is_trust. Cột comment lưu bình luận và is_trust sẽ là nhãn của bình luận"
   ]
  },
  {
   "cell_type": "markdown",
   "metadata": {},
   "source": [
    "## 2. Chuẩn hoá dữ liệu"
   ]
  },
  {
   "cell_type": "markdown",
   "metadata": {},
   "source": [
    "### 2.1 Gán nhãn dữ liệu"
   ]
  },
  {
   "cell_type": "markdown",
   "metadata": {},
   "source": [
    "- Có hai trạng thái cho bình luận là tốt - tích cực - trung bình (1) và không tốt-tiêu cực (0).<br> \n",
    "- Thực hiện gán nhãn thủ công hoặc sẽ tiến hành gán nhãn dựa vào rating của bình luận.\n"
   ]
  },
  {
   "cell_type": "markdown",
   "metadata": {},
   "source": [
    "### 2.2 Chuẩn hoá dữ liệu"
   ]
  },
  {
   "cell_type": "markdown",
   "metadata": {},
   "source": [
    "Ta sẽ thực hiện các bước chuẩn hoá sau:<br>\n",
    "- Xoá các dòng chứa comment rỗng\n",
    "- Xoá các comment trùng lặp (spam)\n",
    "- Xoá khoản trắng hai đầu của comment\n",
    "- Xoá các kí tự đặc biệt, emoji trong comment\n",
    "- Xoá các comment vô nghĩa (optional)\n"
   ]
  },
  {
   "cell_type": "markdown",
   "metadata": {},
   "source": [
    "## 3. Wold tokenizer"
   ]
  },
  {
   "cell_type": "markdown",
   "metadata": {},
   "source": [
    "Tại bước này, ta sẽ tách comment thành các từ hoặc cụm từ có nghĩa. Để làm việc này ta sẽ sử dụng thư viện [underthesea](https://github.com/undertheseanlp/underthesea) .\n"
   ]
  },
  {
   "cell_type": "markdown",
   "metadata": {},
   "source": [
    "## 4.  Train model"
   ]
  },
  {
   "cell_type": "markdown",
   "metadata": {},
   "source": [
    "- Trong đồ án này, ta sẽ sử dụng mô hình BERT. BERT là model biểu diễn ngôn ngữ tự nhiên được google giới thiệu vào năm 2018. Tại thời điểm công bố, BERT đã tạo ra một sự rung động trong cộng đồng NLP bởi những cải tiến chưa từng có ở những model trước đó.<br>\n",
    "- Ta sẽ sử dụng model có sẵn từ thư viện transformers."
   ]
  },
  {
   "cell_type": "markdown",
   "metadata": {},
   "source": [
    "## 5. Predict"
   ]
  },
  {
   "cell_type": "markdown",
   "metadata": {},
   "source": [
    "- Nhập URL của sản phẩm cần đánh giá.\n",
    "- Tiến hành các bước thu thập và chuẩn hoá dữ liệu.\n",
    "- Đưa data vào model để tiến hành predict."
   ]
  },
  {
   "cell_type": "markdown",
   "metadata": {},
   "source": [
    "**Output:**\n",
    "- Số comment tích cực.\n",
    "- Số comment tiêu cực.\n",
    "- Tỉ lệ comment tích cực/tiêu cực.\n",
    "- Nếu tỉ lệ > 0.8 (80%) thì gợi ý nên mua sản phẩm và ngược lại."
   ]
  },
  {
   "cell_type": "code",
   "execution_count": null,
   "metadata": {},
   "outputs": [],
   "source": []
  }
 ],
 "metadata": {
  "kernelspec": {
   "display_name": "Python 3",
   "language": "python",
   "name": "python3"
  },
  "language_info": {
   "codemirror_mode": {
    "name": "ipython",
    "version": 3
   },
   "file_extension": ".py",
   "mimetype": "text/x-python",
   "name": "python",
   "nbconvert_exporter": "python",
   "pygments_lexer": "ipython3",
   "version": "3.8.3"
  }
 },
 "nbformat": 4,
 "nbformat_minor": 4
}
